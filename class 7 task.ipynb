{
 "cells": [
  {
   "attachments": {},
   "cell_type": "markdown",
   "metadata": {},
   "source": [
    "# Assignment\n",
    "* create list of dictionary with (name,id,user,password,email,phone)\n",
    "* create program where user can login with user/email/phone but password must be same "
   ]
  },
  {
   "cell_type": "code",
   "execution_count": 9,
   "metadata": {},
   "outputs": [
    {
     "name": "stdout",
     "output_type": "stream",
     "text": [
      "{'id': 1, 'name': 'Muhammad Qasim', 'user': 'Qasim', 'password': '123', 'email': 'qasim@gmail.com', 'phone': '0213'}\n",
      "Invalid User or Password\n"
     ]
    }
   ],
   "source": [
    "data = [{'id':1,'name':\"Muhammad Qasim\",'user':'Qasim','password':'123','email':\"qasim@gmail.com\",'phone':\"0213\"},\n",
    "       {'id':2,'name':\"Asif Khan\",'user':'Asif','password':'abc123','email':\"asif@gmail.com\",'phone':\"0123\"},\n",
    "       {'id':3, \"name\":\"Muhammad Hamza\",'user':'Hamza','password':'123xyz','email':\"hamza@gmail.com\",'phone':\"0321\"}]\n",
    "\n",
    "user = input(\"Enter user Name/email/phone\")\n",
    "pas = input(\"Password\")\n",
    "\n",
    "for d in data:\n",
    "    if d['user'] == user or d['email'] == user or d['phone'] == user and d['password'] == pas:\n",
    "        print(d)\n",
    "        break\n",
    "\n",
    "print(\"Invalid User or Password\")"
   ]
  }
 ],
 "metadata": {
  "kernelspec": {
   "display_name": "Python 3",
   "language": "python",
   "name": "python3"
  },
  "language_info": {
   "codemirror_mode": {
    "name": "ipython",
    "version": 3
   },
   "file_extension": ".py",
   "mimetype": "text/x-python",
   "name": "python",
   "nbconvert_exporter": "python",
   "pygments_lexer": "ipython3",
   "version": "3.9.7"
  },
  "orig_nbformat": 4,
  "vscode": {
   "interpreter": {
    "hash": "c1724658de68dcb8fc4114ac605c1a83a7fe22e36aa048bdd8c0bdc4418b0e74"
   }
  }
 },
 "nbformat": 4,
 "nbformat_minor": 2
}
