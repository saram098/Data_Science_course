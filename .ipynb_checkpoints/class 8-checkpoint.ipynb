{
 "cells": [
  {
   "cell_type": "code",
   "execution_count": 5,
   "metadata": {},
   "outputs": [
    {
     "name": "stdout",
     "output_type": "stream",
     "text": [
      "We Love Our Country\n",
      "My Country Name is Pakistan\n",
      "Pakistan ZIndabad!\n"
     ]
    }
   ],
   "source": [
    "def any_country(country_name):\n",
    "    print(\"We Love Our Country\")\n",
    "    print(f\"My Country Name is {country_name}\")\n",
    "    print(f\"{country_name} ZIndabad!\")\n",
    "\n",
    "any_country(\"Pakistan\")"
   ]
  },
  {
   "cell_type": "code",
   "execution_count": 6,
   "metadata": {},
   "outputs": [
    {
     "data": {
      "text/plain": [
       "'We Love Our Country\\n    My Country Name is Pakistan\\n    Pakistan ZIndabad!'"
      ]
     },
     "execution_count": 6,
     "metadata": {},
     "output_type": "execute_result"
    }
   ],
   "source": [
    "def any_country(country_name):\n",
    "    result = f\"\"\"We Love Our Country\n",
    "    My Country Name is {country_name}\n",
    "    {country_name} ZIndabad!\"\"\"\n",
    "    return result\n",
    "any_country(\"Pakistan\")"
   ]
  },
  {
   "cell_type": "markdown",
   "metadata": {},
   "source": [
    "# Card\n"
   ]
  },
  {
   "cell_type": "code",
   "execution_count": 2,
   "metadata": {},
   "outputs": [
    {
     "data": {
      "text/plain": [
       "'Saylani Student Card\\nStudent ID: \\t\\t 123\\nStudent Name: \\t Saram\\nClass Timing: \\t 03:00 - 06:00\\nBatch: \\t\\t 4\\n    \\n    '"
      ]
     },
     "execution_count": 2,
     "metadata": {},
     "output_type": "execute_result"
    }
   ],
   "source": [
    "def student_card(roll_no,name,timing,batch):\n",
    "    card = f\"\"\"Saylani Student Card\n",
    "Student ID: \\t\\t {roll_no}\n",
    "Student Name: \\t {name}\n",
    "Class Timing: \\t {timing}\n",
    "Batch: \\t\\t {batch}\n",
    "    \n",
    "    \"\"\"\n",
    "    return card\n",
    "student_card(\"123\",\"Saram\",\"03:00 - 06:00\",\"4\")"
   ]
  }
 ],
 "metadata": {
  "kernelspec": {
   "display_name": "Python 3 (ipykernel)",
   "language": "python",
   "name": "python3"
  },
  "language_info": {
   "codemirror_mode": {
    "name": "ipython",
    "version": 3
   },
   "file_extension": ".py",
   "mimetype": "text/x-python",
   "name": "python",
   "nbconvert_exporter": "python",
   "pygments_lexer": "ipython3",
   "version": "3.9.13"
  },
  "vscode": {
   "interpreter": {
    "hash": "c1724658de68dcb8fc4114ac605c1a83a7fe22e36aa048bdd8c0bdc4418b0e74"
   }
  }
 },
 "nbformat": 4,
 "nbformat_minor": 2
}
