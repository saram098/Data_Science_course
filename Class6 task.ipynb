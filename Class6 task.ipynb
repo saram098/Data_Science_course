{
 "cells": [
  {
   "cell_type": "markdown",
   "id": "1813869d",
   "metadata": {},
   "source": [
    "# Class 08\n",
    "\n",
    "* List Comprehensive\n",
    "* Tuple\n",
    "* Set\n",
    "* Dictionary"
   ]
  },
  {
   "cell_type": "code",
   "execution_count": 1,
   "id": "5447f43b",
   "metadata": {},
   "outputs": [
    {
     "data": {
      "text/plain": [
       "range(0, 11)"
      ]
     },
     "execution_count": 1,
     "metadata": {},
     "output_type": "execute_result"
    }
   ],
   "source": [
    "range(11)"
   ]
  },
  {
   "cell_type": "code",
   "execution_count": 16,
   "id": "dabb9e61",
   "metadata": {},
   "outputs": [
    {
     "name": "stdout",
     "output_type": "stream",
     "text": [
      "Which table do you want to run: 4\n",
      "How many times do you want to run: 6\n",
      "4 X 1 = 4\n",
      "4 X 2 = 8\n",
      "4 X 3 = 12\n",
      "4 X 4 = 16\n",
      "4 X 5 = 20\n",
      "4 X 6 = 24\n"
     ]
    }
   ],
   "source": [
    "tab = int(input(\"Which table do you want to run: \"))\n",
    "times = int(input(\"How many times do you want to run: \"))\n",
    "\n",
    "\n",
    "for i in range(1, times + 1):\n",
    "    print(f\"{tab} X {i} = {tab*i}\")"
   ]
  },
  {
   "cell_type": "code",
   "execution_count": 17,
   "id": "2ba2ab6a",
   "metadata": {},
   "outputs": [
    {
     "name": "stdout",
     "output_type": "stream",
     "text": [
      "1\n",
      "2\n",
      "3\n",
      "4\n",
      "5\n",
      "6\n",
      "7\n",
      "8\n",
      "9\n",
      "10\n"
     ]
    }
   ],
   "source": [
    "for i in range(1, 11):\n",
    "    print(i)"
   ]
  },
  {
   "cell_type": "code",
   "execution_count": 20,
   "id": "dfad2ed5",
   "metadata": {},
   "outputs": [
    {
     "name": "stdout",
     "output_type": "stream",
     "text": [
      "iter number: \n",
      "iter number:  0\n",
      "iter number:  1\n",
      "iter number:  2\n",
      "iter number:  3\n",
      "iter number:  4\n",
      "iter number:  5\n",
      "iter number:  6\n",
      "iter number:  7\n",
      "iter number:  8\n",
      "iter number:  9\n",
      "iter number:  10\n"
     ]
    },
    {
     "data": {
      "text/plain": [
       "[None, None, None, None, None, None, None, None, None, None, None]"
      ]
     },
     "execution_count": 20,
     "metadata": {},
     "output_type": "execute_result"
    }
   ],
   "source": [
    "print(\"iter number: \")\n",
    "[print(\"iter number: \", i) for i in range(11)]"
   ]
  },
  {
   "cell_type": "code",
   "execution_count": 22,
   "id": "8ef0075c",
   "metadata": {},
   "outputs": [],
   "source": [
    "a = [(\"iter number: \", i) for i in range(1, 11)]"
   ]
  },
  {
   "cell_type": "code",
   "execution_count": 23,
   "id": "f5b0d320",
   "metadata": {},
   "outputs": [
    {
     "data": {
      "text/plain": [
       "[('iter number: ', 1),\n",
       " ('iter number: ', 2),\n",
       " ('iter number: ', 3),\n",
       " ('iter number: ', 4),\n",
       " ('iter number: ', 5),\n",
       " ('iter number: ', 6),\n",
       " ('iter number: ', 7),\n",
       " ('iter number: ', 8),\n",
       " ('iter number: ', 9),\n",
       " ('iter number: ', 10)]"
      ]
     },
     "execution_count": 23,
     "metadata": {},
     "output_type": "execute_result"
    }
   ],
   "source": [
    "a"
   ]
  },
  {
   "cell_type": "code",
   "execution_count": 26,
   "id": "a247626f",
   "metadata": {},
   "outputs": [
    {
     "data": {
      "text/plain": [
       "['iter number: 1',\n",
       " 'iter number: 2',\n",
       " 'iter number: 3',\n",
       " 'iter number: 4',\n",
       " 'iter number: 5',\n",
       " 'iter number: 6',\n",
       " 'iter number: 7',\n",
       " 'iter number: 8',\n",
       " 'iter number: 9',\n",
       " 'iter number: 10']"
      ]
     },
     "execution_count": 26,
     "metadata": {},
     "output_type": "execute_result"
    }
   ],
   "source": [
    "a = [f\"iter number: {i}\" for i in range(1, 11)]\n",
    "a"
   ]
  },
  {
   "cell_type": "code",
   "execution_count": 28,
   "id": "55c4c688",
   "metadata": {},
   "outputs": [
    {
     "data": {
      "text/plain": [
       "[3, 4, 5, 6, 7, 8, 9, 10, 11, 12]"
      ]
     },
     "execution_count": 28,
     "metadata": {},
     "output_type": "execute_result"
    }
   ],
   "source": [
    "[i+5//2 for i in range(1, 11)]"
   ]
  },
  {
   "cell_type": "code",
   "execution_count": 29,
   "id": "af10aa16",
   "metadata": {},
   "outputs": [
    {
     "data": {
      "text/plain": [
       "[5, 10, 15, 20, 25, 30, 35, 40, 45, 50]"
      ]
     },
     "execution_count": 29,
     "metadata": {},
     "output_type": "execute_result"
    }
   ],
   "source": [
    "[i*5 for i in range(1, 11)]"
   ]
  },
  {
   "cell_type": "code",
   "execution_count": 30,
   "id": "3c6109ad",
   "metadata": {},
   "outputs": [
    {
     "data": {
      "text/plain": [
       "[1,\n",
       " 2,\n",
       " 4,\n",
       " 3,\n",
       " 6,\n",
       " 9,\n",
       " 4,\n",
       " 8,\n",
       " 12,\n",
       " 16,\n",
       " 5,\n",
       " 10,\n",
       " 15,\n",
       " 20,\n",
       " 25,\n",
       " 6,\n",
       " 12,\n",
       " 18,\n",
       " 24,\n",
       " 30,\n",
       " 36,\n",
       " 7,\n",
       " 14,\n",
       " 21,\n",
       " 28,\n",
       " 35,\n",
       " 42,\n",
       " 49,\n",
       " 8,\n",
       " 16,\n",
       " 24,\n",
       " 32,\n",
       " 40,\n",
       " 48,\n",
       " 56,\n",
       " 64,\n",
       " 9,\n",
       " 18,\n",
       " 27,\n",
       " 36,\n",
       " 45,\n",
       " 54,\n",
       " 63,\n",
       " 72,\n",
       " 81,\n",
       " 10,\n",
       " 20,\n",
       " 30,\n",
       " 40,\n",
       " 50,\n",
       " 60,\n",
       " 70,\n",
       " 80,\n",
       " 90,\n",
       " 100]"
      ]
     },
     "execution_count": 30,
     "metadata": {},
     "output_type": "execute_result"
    }
   ],
   "source": [
    "[i*j for i in range(1, 11) for j in range(1, i+1)]"
   ]
  },
  {
   "cell_type": "code",
   "execution_count": 71,
   "id": "e4c84dbc",
   "metadata": {},
   "outputs": [
    {
     "name": "stdout",
     "output_type": "stream",
     "text": [
      "1 \n",
      "2 4 \n",
      "3 6 9 \n",
      "4 8 12 16 \n",
      "5 10 15 20 25 \n",
      "6 12 18 24 30 36 \n",
      "7 14 21 28 35 42 49 \n",
      "8 16 24 32 40 48 56 64 \n",
      "9 18 27 36 45 54 63 72 81 \n",
      "10 20 30 40 50 60 70 80 90 100 \n"
     ]
    }
   ],
   "source": [
    "for i in range(1, 11):\n",
    "    for j in range(1, i+1):\n",
    "        print((i*j), end= \" \")\n",
    "    print()"
   ]
  },
  {
   "cell_type": "markdown",
   "id": "a3c17454",
   "metadata": {},
   "source": [
    "# Tuple"
   ]
  },
  {
   "cell_type": "code",
   "execution_count": 72,
   "id": "3ab1e3d6",
   "metadata": {},
   "outputs": [
    {
     "data": {
      "text/plain": [
       "tuple"
      ]
     },
     "execution_count": 72,
     "metadata": {},
     "output_type": "execute_result"
    }
   ],
   "source": [
    "data = (1, 2, 3, \"a\", \"b\", \"c\")\n",
    "\n",
    "type(data)"
   ]
  },
  {
   "cell_type": "code",
   "execution_count": 73,
   "id": "0bcc11ee",
   "metadata": {},
   "outputs": [
    {
     "data": {
      "text/plain": [
       "(1, 2, 3, 'a', 'b', 'c', 1, 2, 3, 'a', 'b', 'c')"
      ]
     },
     "execution_count": 73,
     "metadata": {},
     "output_type": "execute_result"
    }
   ],
   "source": [
    "data + data"
   ]
  },
  {
   "cell_type": "code",
   "execution_count": 74,
   "id": "6b4edb1f",
   "metadata": {},
   "outputs": [
    {
     "data": {
      "text/plain": [
       "['__add__',\n",
       " '__class__',\n",
       " '__class_getitem__',\n",
       " '__contains__',\n",
       " '__delattr__',\n",
       " '__dir__',\n",
       " '__doc__',\n",
       " '__eq__',\n",
       " '__format__',\n",
       " '__ge__',\n",
       " '__getattribute__',\n",
       " '__getitem__',\n",
       " '__getnewargs__',\n",
       " '__gt__',\n",
       " '__hash__',\n",
       " '__init__',\n",
       " '__init_subclass__',\n",
       " '__iter__',\n",
       " '__le__',\n",
       " '__len__',\n",
       " '__lt__',\n",
       " '__mul__',\n",
       " '__ne__',\n",
       " '__new__',\n",
       " '__reduce__',\n",
       " '__reduce_ex__',\n",
       " '__repr__',\n",
       " '__rmul__',\n",
       " '__setattr__',\n",
       " '__sizeof__',\n",
       " '__str__',\n",
       " '__subclasshook__',\n",
       " 'count',\n",
       " 'index']"
      ]
     },
     "execution_count": 74,
     "metadata": {},
     "output_type": "execute_result"
    }
   ],
   "source": [
    "dir(data)"
   ]
  },
  {
   "cell_type": "markdown",
   "id": "6ff08994",
   "metadata": {},
   "source": [
    "# Tuple not fully immutable"
   ]
  },
  {
   "cell_type": "code",
   "execution_count": 105,
   "id": "86281c7c",
   "metadata": {},
   "outputs": [
    {
     "data": {
      "text/plain": [
       "(1, 2, 3, ['a', 'b', 'c', 'd'])"
      ]
     },
     "execution_count": 105,
     "metadata": {},
     "output_type": "execute_result"
    }
   ],
   "source": [
    "data = (1, 2, 3, [\"a\", \"b\", \"c\"] )\n",
    "\n",
    "data[3].append(\"d\")\n",
    "\n",
    "data"
   ]
  },
  {
   "cell_type": "markdown",
   "id": "25d0c2bc",
   "metadata": {},
   "source": [
    "# Dictionary"
   ]
  },
  {
   "cell_type": "code",
   "execution_count": 121,
   "id": "35264ad7",
   "metadata": {},
   "outputs": [
    {
     "name": "stdout",
     "output_type": "stream",
     "text": [
      "Amjad\n",
      "Nahi he bhai\n"
     ]
    }
   ],
   "source": [
    "data = {} # empty dictionary\n",
    "\n",
    "data[\"name\"] = \"Amjad\"\n",
    "data[\"father_name\"] = \"Aziz\"\n",
    "data[\"id\"] = \"1925\"\n",
    "\n",
    "print(data.get(\"name\"))\n",
    "\n",
    "print(data.get(\"roll_number\", \"Nahi he bhai\"))"
   ]
  },
  {
   "cell_type": "code",
   "execution_count": 123,
   "id": "39d207f8",
   "metadata": {},
   "outputs": [
    {
     "data": {
      "text/plain": [
       "{'name': None, 'father_name': None}"
      ]
     },
     "execution_count": 123,
     "metadata": {},
     "output_type": "execute_result"
    }
   ],
   "source": [
    "data = {} # empty dictionary\n",
    "\n",
    "data[\"name\"] = \"Amjad\"\n",
    "data[\"father_name\"] = \"Aziz\"\n",
    "data[\"cnic\"] = \"42401-4464481-5\"\n",
    "data[\"id\"] = \"1925\"\n",
    "data{}\n",
    "\n",
    "data.fromkeys([\"name\", \"father_name\"])"
   ]
  },
  {
   "cell_type": "code",
   "execution_count": 120,
   "id": "738dd63b",
   "metadata": {},
   "outputs": [
    {
     "name": "stdout",
     "output_type": "stream",
     "text": [
      "aa\n",
      "bb\n"
     ]
    }
   ],
   "source": [
    "a, b = \"aa\", \"bb\"    # Unzipping or Unpacking\n",
    "\n",
    "print(a)\n",
    "print(b)"
   ]
  },
  {
   "cell_type": "code",
   "execution_count": 110,
   "id": "a3158807",
   "metadata": {},
   "outputs": [
    {
     "data": {
      "text/plain": [
       "1471680000"
      ]
     },
     "execution_count": 110,
     "metadata": {},
     "output_type": "execute_result"
    }
   ],
   "source": [
    "14 * 200 * 60 * 24 * 365"
   ]
  },
  {
   "cell_type": "markdown",
   "id": "ee6935b0",
   "metadata": {},
   "source": [
    " # Task"
   ]
  },
  {
   "cell_type": "code",
   "execution_count": 1,
   "id": "926b7081",
   "metadata": {},
   "outputs": [
    {
     "name": "stdout",
     "output_type": "stream",
     "text": [
      "1 X 1 = 1\n",
      "1 X 2 = 2\n",
      "1 X 3 = 3\n",
      "1 X 4 = 4\n",
      "-----------------\n",
      "2 X 1 = 2\n",
      "2 X 2 = 4\n",
      "2 X 3 = 6\n",
      "2 X 4 = 8\n",
      "-----------------\n",
      "3 X 1 = 3\n",
      "3 X 2 = 6\n",
      "3 X 3 = 9\n",
      "3 X 4 = 12\n",
      "-----------------\n",
      "4 X 1 = 4\n",
      "4 X 2 = 8\n",
      "4 X 3 = 12\n",
      "4 X 4 = 16\n",
      "-----------------\n",
      "5 X 1 = 5\n",
      "5 X 2 = 10\n",
      "5 X 3 = 15\n",
      "5 X 4 = 20\n",
      "-----------------\n"
     ]
    }
   ],
   "source": [
    "tab = int(input(\"Which table do you want to run: \"))\n",
    "tiltab = int(input(\"Uptill how many: \"))\n",
    "times = int(input(\"How many times do you want to run: \"))\n",
    "\n",
    "for i in range(tab, tiltab+1):\n",
    "    \n",
    "    for j in range(1, times + 1):\n",
    "        print(f\"{i} X {j} = {i*j}\")\n",
    "    \n",
    "    print(\"-----------------\")"
   ]
  },
  {
   "cell_type": "code",
   "execution_count": 99,
   "id": "0ce9111c",
   "metadata": {},
   "outputs": [
    {
     "name": "stdout",
     "output_type": "stream",
     "text": [
      "Which table do you want to run: 2\n",
      "Uptill how many: 6\n",
      "How many times do you want to run: 5\n"
     ]
    },
    {
     "data": {
      "text/plain": [
       "['2 X 1 = 2',\n",
       " '2 X 2 = 4',\n",
       " '2 X 3 = 6',\n",
       " '2 X 4 = 8',\n",
       " '2 X 5 = 10',\n",
       " '3 X 1 = 3',\n",
       " '3 X 2 = 6',\n",
       " '3 X 3 = 9',\n",
       " '3 X 4 = 12',\n",
       " '3 X 5 = 15',\n",
       " '4 X 1 = 4',\n",
       " '4 X 2 = 8',\n",
       " '4 X 3 = 12',\n",
       " '4 X 4 = 16',\n",
       " '4 X 5 = 20',\n",
       " '5 X 1 = 5',\n",
       " '5 X 2 = 10',\n",
       " '5 X 3 = 15',\n",
       " '5 X 4 = 20',\n",
       " '5 X 5 = 25',\n",
       " '6 X 1 = 6',\n",
       " '6 X 2 = 12',\n",
       " '6 X 3 = 18',\n",
       " '6 X 4 = 24',\n",
       " '6 X 5 = 30']"
      ]
     },
     "execution_count": 99,
     "metadata": {},
     "output_type": "execute_result"
    }
   ],
   "source": [
    "tab = int(input(\"Which table do you want to run: \"))\n",
    "tiltab = int(input(\"Uptill how many: \"))\n",
    "times = int(input(\"How many times do you want to run: \"))\n",
    "\n",
    "[f\"{i} X {j} = {i*j}\" for i in range(tab, tiltab+1) for j in range(1, times + 1) ]"
   ]
  },
  {
   "cell_type": "code",
   "execution_count": 2,
   "id": "cc187d67",
   "metadata": {},
   "outputs": [],
   "source": [
    "data = {\n",
    "    \"a\" : 3,\n",
    "    \"b\" : 2,\n",
    "    \"c\" : 1\n",
    "}\n",
    "\n",
    "# Sort out"
   ]
  },
  {
   "cell_type": "code",
   "execution_count": 4,
   "id": "4b8ce055",
   "metadata": {},
   "outputs": [
    {
     "name": "stdout",
     "output_type": "stream",
     "text": [
      "['a', 'b', 'c']\n",
      "{'a': 3, 'b': 2, 'c': 1}\n"
     ]
    }
   ],
   "source": [
    "myKeys = list(data.keys())\n",
    "myKeys.sort()\n",
    "print(myKeys)\n",
    "sorted_dict = {i: data[i] for i in myKeys}\n",
    " \n",
    "print(sorted_dict)"
   ]
  },
  {
   "cell_type": "code",
   "execution_count": 5,
   "id": "e3823157",
   "metadata": {},
   "outputs": [
    {
     "name": "stdout",
     "output_type": "stream",
     "text": [
      "2 x 1 = 2\n",
      "2 x 2 = 4\n",
      "2 x 3 = 6\n",
      "2 x 4 = 8\n",
      "2 x 5 = 10\n",
      "2 x 6 = 12\n",
      "2 x 7 = 14\n",
      "3 x 1 = 3\n",
      "3 x 2 = 6\n",
      "3 x 3 = 9\n",
      "3 x 4 = 12\n",
      "3 x 5 = 15\n",
      "3 x 6 = 18\n",
      "3 x 7 = 21\n",
      "4 x 1 = 4\n",
      "4 x 2 = 8\n",
      "4 x 3 = 12\n",
      "4 x 4 = 16\n",
      "4 x 5 = 20\n",
      "4 x 6 = 24\n",
      "4 x 7 = 28\n",
      "5 x 1 = 5\n",
      "5 x 2 = 10\n",
      "5 x 3 = 15\n",
      "5 x 4 = 20\n",
      "5 x 5 = 25\n",
      "5 x 6 = 30\n",
      "5 x 7 = 35\n",
      "6 x 1 = 6\n",
      "6 x 2 = 12\n",
      "6 x 3 = 18\n",
      "6 x 4 = 24\n",
      "6 x 5 = 30\n",
      "6 x 6 = 36\n",
      "6 x 7 = 42\n"
     ]
    }
   ],
   "source": [
    "table = int(input(\"Which table do you want to run: \"))\n",
    "times = int(input(\"Uptill how many: \"))\n",
    "ttables = int(input(\"How many times do you want to run: \"))\n",
    "\n",
    "for i in range(table,times+1):\n",
    "    for j in range(1,ttables+1):\n",
    "        print(f\"{i} x {j} = {i*j}\")"
   ]
  },
  {
   "cell_type": "code",
   "execution_count": 7,
   "id": "297d9305",
   "metadata": {},
   "outputs": [
    {
     "data": {
      "text/plain": [
       "['1 x 1 = 1',\n",
       " '1 x 2 = 2',\n",
       " '1 x 3 = 3',\n",
       " '2 x 1 = 2',\n",
       " '2 x 2 = 4',\n",
       " '2 x 3 = 6',\n",
       " '3 x 1 = 3',\n",
       " '3 x 2 = 6',\n",
       " '3 x 3 = 9',\n",
       " '4 x 1 = 4',\n",
       " '4 x 2 = 8',\n",
       " '4 x 3 = 12']"
      ]
     },
     "execution_count": 7,
     "metadata": {},
     "output_type": "execute_result"
    }
   ],
   "source": [
    "table = int(input(\"Which table do you want to run: \"))\n",
    "times = int(input(\"Uptill how many: \"))\n",
    "ttables = int(input(\"How many times do you want to run: \"))\n",
    "[f\"{i} x {j} = {i*j}\" for i in range(table,times+1) for j in range(1,ttables+1) ]"
   ]
  },
  {
   "cell_type": "code",
   "execution_count": 8,
   "id": "c2cfac73",
   "metadata": {},
   "outputs": [
    {
     "name": "stdout",
     "output_type": "stream",
     "text": [
      "Saram and amjad\n"
     ]
    }
   ],
   "source": [
    "print(\"Saram and amjad\")"
   ]
  }
 ],
 "metadata": {
  "kernelspec": {
   "display_name": "Python 3 (ipykernel)",
   "language": "python",
   "name": "python3"
  },
  "language_info": {
   "codemirror_mode": {
    "name": "ipython",
    "version": 3
   },
   "file_extension": ".py",
   "mimetype": "text/x-python",
   "name": "python",
   "nbconvert_exporter": "python",
   "pygments_lexer": "ipython3",
   "version": "3.9.7"
  }
 },
 "nbformat": 4,
 "nbformat_minor": 5
}
