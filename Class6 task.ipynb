{
 "cells": [
  {
   "attachments": {},
   "cell_type": "markdown",
   "id": "ee6935b0",
   "metadata": {},
   "source": [
    " # Task\n",
    " # Create Table \n",
    "1. pass argument1 **2 to n** table will be generated\n",
    "2. pass argument2 range of each table **1 to n**\n",
    "\n",
    "* argument1 = 3\n",
    "* agrument2 = 5\n",
    "\n",
    "```\n",
    "2 x 1 = 2  3X1=3\n",
    "2 x 2 = 4  3X2=6\n",
    "2 x 3 = 6  3X3=9\n",
    "2 x 4 = 8  3X4=12\n",
    "2 x 5 = 10 3X5=15\n",
    "```\n"
   ]
  },
  {
   "cell_type": "code",
   "execution_count": 3,
   "id": "e3823157",
   "metadata": {},
   "outputs": [
    {
     "name": "stdout",
     "output_type": "stream",
     "text": [
      "3 x 1 = 3\n",
      "3 x 2 = 6\n",
      "3 x 3 = 9\n",
      "3 x 4 = 12\n",
      "3 x 5 = 15\n",
      "xxxxxxxxxxxxxxxxxx\n",
      "4 x 1 = 4\n",
      "4 x 2 = 8\n",
      "4 x 3 = 12\n",
      "4 x 4 = 16\n",
      "4 x 5 = 20\n",
      "xxxxxxxxxxxxxxxxxx\n",
      "5 x 1 = 5\n",
      "5 x 2 = 10\n",
      "5 x 3 = 15\n",
      "5 x 4 = 20\n",
      "5 x 5 = 25\n",
      "xxxxxxxxxxxxxxxxxx\n"
     ]
    }
   ],
   "source": [
    "table = int(input(\"Which table do you want to run: \"))\n",
    "times = int(input(\"Uptill how many: \"))\n",
    "ttables = int(input(\"How many times do you want to run: \"))\n",
    "\n",
    "for i in range(table,times+1):\n",
    "    for j in range(1,ttables+1):\n",
    "        print(f\"{i} x {j} = {i*j}\")\n",
    "    print(\"xxxxxxxxxxxxxxxxxx\")"
   ]
  },
  {
   "cell_type": "markdown",
   "id": "406d24c1",
   "metadata": {},
   "source": [
    "# Using List Comprehension\n"
   ]
  },
  {
   "cell_type": "code",
   "execution_count": 9,
   "id": "c2cfac73",
   "metadata": {},
   "outputs": [
    {
     "data": {
      "text/plain": [
       "['3 x 1 = 3',\n",
       " '3 x 2 = 6',\n",
       " '3 x 3 = 9',\n",
       " '3 x 4 = 12',\n",
       " '3 x 5 = 15',\n",
       " '4 x 1 = 4',\n",
       " '4 x 2 = 8',\n",
       " '4 x 3 = 12',\n",
       " '4 x 4 = 16',\n",
       " '4 x 5 = 20',\n",
       " '5 x 1 = 5',\n",
       " '5 x 2 = 10',\n",
       " '5 x 3 = 15',\n",
       " '5 x 4 = 20',\n",
       " '5 x 5 = 25']"
      ]
     },
     "execution_count": 9,
     "metadata": {},
     "output_type": "execute_result"
    }
   ],
   "source": [
    "table = int(input(\"Which table do you want to run: \"))\n",
    "times = int(input(\"Uptill how many: \"))\n",
    "ttables = int(input(\"How many times do you want to run: \"))\n",
    "\n",
    "[f\"{i} x {j} = {i*j}\" for i in range(table,times+1) for j in range(1,ttables+1) ]"
   ]
  }
 ],
 "metadata": {
  "kernelspec": {
   "display_name": "Python 3",
   "language": "python",
   "name": "python3"
  },
  "language_info": {
   "codemirror_mode": {
    "name": "ipython",
    "version": 3
   },
   "file_extension": ".py",
   "mimetype": "text/x-python",
   "name": "python",
   "nbconvert_exporter": "python",
   "pygments_lexer": "ipython3",
   "version": "3.9.7"
  },
  "vscode": {
   "interpreter": {
    "hash": "c1724658de68dcb8fc4114ac605c1a83a7fe22e36aa048bdd8c0bdc4418b0e74"
   }
  }
 },
 "nbformat": 4,
 "nbformat_minor": 5
}
