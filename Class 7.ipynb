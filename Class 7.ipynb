{
 "cells": [
  {
   "cell_type": "markdown",
   "id": "c4a53d0e",
   "metadata": {},
   "source": [
    "# Programming paradigms\n",
    "## Linear Programming\n",
    "## Structrual/Controls Programming\n",
    "## Object Oriented Programing"
   ]
  },
  {
   "cell_type": "markdown",
   "id": "da058710",
   "metadata": {},
   "source": [
    "# Linear Programing"
   ]
  },
  {
   "cell_type": "code",
   "execution_count": 1,
   "id": "32fe1b9d",
   "metadata": {},
   "outputs": [
    {
     "name": "stdout",
     "output_type": "stream",
     "text": [
      "Pakistan zinda bad!\n",
      "Pakistan zinda bad!\n",
      "Pakistan zinda bad!\n",
      "Pakistan zinda bad!\n",
      "Pakistan zinda bad!\n",
      "Pakistan zinda bad!\n",
      "Pakistan zinda bad!\n",
      "Pakistan zinda bad!\n",
      "Pakistan zinda bad!\n",
      "Pakistan zinda bad!\n"
     ]
    }
   ],
   "source": [
    "print(\"Pakistan zinda bad!\")\n",
    "print(\"Pakistan zinda bad!\")\n",
    "print(\"Pakistan zinda bad!\")\n",
    "print(\"Pakistan zinda bad!\")\n",
    "print(\"Pakistan zinda bad!\")\n",
    "print(\"Pakistan zinda bad!\")\n",
    "print(\"Pakistan zinda bad!\")\n",
    "print(\"Pakistan zinda bad!\")\n",
    "print(\"Pakistan zinda bad!\")\n",
    "print(\"Pakistan zinda bad!\")"
   ]
  },
  {
   "cell_type": "markdown",
   "id": "b921c314",
   "metadata": {},
   "source": [
    "# Structural Programin"
   ]
  },
  {
   "cell_type": "code",
   "execution_count": 2,
   "id": "f8425bfa",
   "metadata": {},
   "outputs": [
    {
     "name": "stdout",
     "output_type": "stream",
     "text": [
      "Pakistan zinda bad!\n",
      "Pakistan zinda bad!\n",
      "Pakistan zinda bad!\n",
      "Pakistan zinda bad!\n",
      "Pakistan zinda bad!\n",
      "Pakistan zinda bad!\n",
      "Pakistan zinda bad!\n",
      "Pakistan zinda bad!\n",
      "Pakistan zinda bad!\n",
      "Pakistan zinda bad!\n"
     ]
    }
   ],
   "source": [
    "for num in range(1,11):\n",
    "    print(\"Pakistan zinda bad!\")"
   ]
  },
  {
   "cell_type": "markdown",
   "id": "849ecdcf",
   "metadata": {},
   "source": [
    "# Controls\n",
    "* if\n",
    "    * else\n",
    "    * elif\n",
    "* for/while\n",
    "    * break\n",
    "    * continue\n",
    "    * pass\n",
    "    * else\n",
    "* def\n",
    "* try\n",
    "    * except\n",
    "    * else\n",
    "    * finally\n",
    "* class\n"
   ]
  },
  {
   "cell_type": "markdown",
   "id": "12724324",
   "metadata": {},
   "source": [
    "https://flexiple.com/python/python-reserved-words/"
   ]
  },
  {
   "cell_type": "markdown",
   "id": "fd68d4b0",
   "metadata": {},
   "source": [
    "# if\n",
    "* else\n",
    "* elif\n",
    "\n",
    "```if Logic:\n",
    "    True_block_body\n",
    "else:\n",
    "    False_block_body```"
   ]
  },
  {
   "cell_type": "markdown",
   "id": "3022c064",
   "metadata": {},
   "source": [
    "```if True/False:\n",
    "    True_block_body\n",
    "else:\n",
    "    False_block_body```"
   ]
  },
  {
   "cell_type": "markdown",
   "id": "dc75dfec",
   "metadata": {},
   "source": [
    "### comprehensive Style\n",
    "```True_block_body if True/False else False_block_body```"
   ]
  },
  {
   "cell_type": "code",
   "execution_count": 3,
   "id": "47b00590",
   "metadata": {},
   "outputs": [
    {
     "name": "stdout",
     "output_type": "stream",
     "text": [
      "Pakistan!\n",
      "America\n"
     ]
    }
   ],
   "source": [
    "print(\"Pakistan!\")\n",
    "\n",
    "print(\"America\")"
   ]
  },
  {
   "cell_type": "code",
   "execution_count": 4,
   "id": "945efce5",
   "metadata": {},
   "outputs": [
    {
     "name": "stdout",
     "output_type": "stream",
     "text": [
      "Pakistan\n"
     ]
    }
   ],
   "source": [
    "if True:\n",
    "    print(\"Pakistan\")\n",
    "else:\n",
    "    print(\"America\")"
   ]
  },
  {
   "cell_type": "code",
   "execution_count": 5,
   "id": "9344a534",
   "metadata": {},
   "outputs": [
    {
     "name": "stdout",
     "output_type": "stream",
     "text": [
      "America\n"
     ]
    }
   ],
   "source": [
    "if False:\n",
    "    print(\"Pakistan\")\n",
    "else:\n",
    "    print(\"America\")"
   ]
  },
  {
   "cell_type": "code",
   "execution_count": 6,
   "id": "967b8d49",
   "metadata": {},
   "outputs": [
    {
     "name": "stdout",
     "output_type": "stream",
     "text": [
      "Enter any number: 15\n",
      "15 <class 'int'>\n",
      "1\n",
      "False\n"
     ]
    }
   ],
   "source": [
    "num = int(input(\"Enter any number: \"))\n",
    "\n",
    "print(num, type(num))\n",
    "\n",
    "print(num % 2)\n",
    "print(num % 2 == 0)"
   ]
  },
  {
   "cell_type": "code",
   "execution_count": 7,
   "id": "0bfa23e6",
   "metadata": {},
   "outputs": [
    {
     "name": "stdout",
     "output_type": "stream",
     "text": [
      "Enter any number: 15\n",
      "the 15 is Odd!\n"
     ]
    }
   ],
   "source": [
    "num = int(input(\"Enter any number: \"))\n",
    "\n",
    "\n",
    "if num % 2 == 0:\n",
    "    print(f\"the {num} is Even!\")\n",
    "else:\n",
    "    print(f\"the {num} is Odd!\")"
   ]
  },
  {
   "cell_type": "code",
   "execution_count": 8,
   "id": "1426eb42",
   "metadata": {},
   "outputs": [
    {
     "name": "stdout",
     "output_type": "stream",
     "text": [
      "Enter your percentage: 66\n",
      "B\n",
      "Pakistan zinda bad\n"
     ]
    }
   ],
   "source": [
    "per = int(input(\"Enter your percentage: \"))\n",
    "\n",
    "\n",
    "if per >= 80:# logic1\n",
    "    print(\"A+\")\n",
    "elif per >= 70: #logic 2\n",
    "    print(\"A\")\n",
    "elif per >= 60: # logic 3\n",
    "    print(\"B\")\n",
    "elif per >= 50: # logic 4\n",
    "    print(\"C\")\n",
    "elif per >= 40: # logic 5\n",
    "    print(\"D\")\n",
    "elif per >= 33:\n",
    "    print(\"E\")\n",
    "else:\n",
    "    print(\"Fail\")\n",
    "    \n",
    "    \n",
    "print(\"Pakistan zinda bad\")\n"
   ]
  },
  {
   "cell_type": "code",
   "execution_count": 9,
   "id": "b790ce80",
   "metadata": {},
   "outputs": [
    {
     "name": "stdout",
     "output_type": "stream",
     "text": [
      "B\n"
     ]
    }
   ],
   "source": [
    "per = 66\n",
    "\n",
    "\n",
    "if False:# logic1\n",
    "    print(\"A+\")\n",
    "elif False: #logic 2\n",
    "    print(\"A\")\n",
    "elif True: # logic 3\n",
    "    print(\"B\")\n",
    "elif 66 >= 50: # logic 4\n",
    "    print(\"C\")\n",
    "elif 66 >= 40: # logic 5\n",
    "    print(\"D\")\n",
    "elif 66 >= 33:\n",
    "    print(\"E\")\n",
    "else:\n",
    "    print(\"Fail\")"
   ]
  },
  {
   "cell_type": "code",
   "execution_count": 10,
   "id": "7764aae9",
   "metadata": {},
   "outputs": [
    {
     "name": "stdout",
     "output_type": "stream",
     "text": [
      "Enter percentage: 88\n",
      "Fail\n"
     ]
    }
   ],
   "source": [
    "per = int(input(\"Enter percentage: \"))\n",
    "\n",
    "if per >= 0:\n",
    "    print(\"Fail\")\n",
    "elif per >= 33:\n",
    "    print(\"E\")\n",
    "elif per >= 40:\n",
    "    print(\"D\")\n",
    "elif per >= 50:\n",
    "    print(\"C\")\n",
    "elif per >= 60:\n",
    "    print(\"B\")\n",
    "elif per >= 70:\n",
    "    print(\"A\")\n",
    "elif per >= 80:\n",
    "    print(\"A+\")"
   ]
  },
  {
   "cell_type": "code",
   "execution_count": 11,
   "id": "e140c25d",
   "metadata": {},
   "outputs": [
    {
     "data": {
      "text/plain": [
       "True"
      ]
     },
     "execution_count": 11,
     "metadata": {},
     "output_type": "execute_result"
    }
   ],
   "source": [
    "True and True and True"
   ]
  },
  {
   "cell_type": "code",
   "execution_count": null,
   "id": "16c1c515",
   "metadata": {},
   "outputs": [],
   "source": []
  },
  {
   "cell_type": "code",
   "execution_count": 12,
   "id": "efe5071b",
   "metadata": {},
   "outputs": [
    {
     "name": "stdout",
     "output_type": "stream",
     "text": [
      "Enter percentage: 86\n",
      "A+\n"
     ]
    }
   ],
   "source": [
    "per = int(input(\"Enter percentage: \"))\n",
    "\n",
    "if per >= 0 and per < 33:\n",
    "    print(\"Fail\")\n",
    "elif per >= 33 and per < 40:\n",
    "    print(\"E\")\n",
    "elif per >= 40 and per < 50:\n",
    "    print(\"D\")\n",
    "elif per >= 50 and per < 60:\n",
    "    print(\"C\")\n",
    "elif per >= 60 and per < 70:\n",
    "    print(\"B\")\n",
    "elif per >= 70 and per < 80:\n",
    "    print(\"A\")\n",
    "elif per >= 80 and per < 100:\n",
    "    print(\"A+\")"
   ]
  },
  {
   "cell_type": "code",
   "execution_count": 13,
   "id": "11e841f5",
   "metadata": {},
   "outputs": [
    {
     "name": "stdout",
     "output_type": "stream",
     "text": [
      "Enter User Name: 84\n",
      "Enter your Password: 55\n",
      "Invalid User\n"
     ]
    }
   ],
   "source": [
    "user_name = input(\"Enter User Name: \")\n",
    "password = input(\"Enter your Password: \")\n",
    "\n",
    "if user_name == 'Admin' and password == 'Admin':\n",
    "    print(\"Valid User\")\n",
    "else:\n",
    "    print(\"Invalid User\")"
   ]
  },
  {
   "cell_type": "code",
   "execution_count": 14,
   "id": "c89dd66e",
   "metadata": {},
   "outputs": [
    {
     "name": "stdout",
     "output_type": "stream",
     "text": [
      "Enter User Name: Admin\n",
      "Enter your Password: Admin\n",
      "Valid User\n"
     ]
    }
   ],
   "source": [
    "user_name = input(\"Enter User Name: \")\n",
    "password = input(\"Enter your Password: \")\n",
    "\n",
    "if user_name == 'Admin' and password == 'Admin':\n",
    "    print(\"Valid User\")\n",
    "else:\n",
    "    print(\"Invalid User\")"
   ]
  },
  {
   "cell_type": "code",
   "execution_count": 15,
   "id": "7f204a13",
   "metadata": {},
   "outputs": [
    {
     "name": "stdout",
     "output_type": "stream",
     "text": [
      "Enter User Name: admin\n",
      "Enter your Password: Admin\n",
      "Valid User\n"
     ]
    }
   ],
   "source": [
    "user_name = input(\"Enter User Name: \")\n",
    "password = input(\"Enter your Password: \")\n",
    "\n",
    "if user_name == 'Admin' or user_name == 'admin' and password == 'Admin':\n",
    "    print(\"Valid User\")\n",
    "else:\n",
    "    print(\"Invalid User\")"
   ]
  },
  {
   "cell_type": "code",
   "execution_count": 16,
   "id": "37d01ca3",
   "metadata": {},
   "outputs": [
    {
     "name": "stdout",
     "output_type": "stream",
     "text": [
      "Enter User Name: admin\n",
      "Enter your Password: Admin\n",
      "Valid User\n"
     ]
    }
   ],
   "source": [
    "user_name = input(\"Enter User Name: \")\n",
    "password = input(\"Enter your Password: \")\n",
    "\n",
    "if user_name.lower() == 'admin' and password == 'Admin':\n",
    "    print(\"Valid User\")\n",
    "else:\n",
    "    print(\"Invalid User\")"
   ]
  },
  {
   "cell_type": "code",
   "execution_count": 17,
   "id": "723f0c80",
   "metadata": {},
   "outputs": [
    {
     "name": "stdout",
     "output_type": "stream",
     "text": [
      "Enter User Name: Admin\n",
      "Enter your Password: Admin\n",
      "Valid user\n"
     ]
    }
   ],
   "source": [
    "user_name = input(\"Enter User Name: \")\n",
    "password = input(\"Enter your Password: \")\n",
    "\n",
    "print(\"Valid user\") if user_name.lower() == \"admin\" and password == \"Admin\" else print(\"Invalid User\")"
   ]
  },
  {
   "cell_type": "code",
   "execution_count": 18,
   "id": "a1ea8080",
   "metadata": {},
   "outputs": [
    {
     "name": "stdout",
     "output_type": "stream",
     "text": [
      "Enter User Name: admin\n",
      "Enter your Password: Admin\n",
      "Valid User\n"
     ]
    }
   ],
   "source": [
    "user_name = input(\"Enter User Name: \")\n",
    "password = input(\"Enter your Password: \")\n",
    "\n",
    "if user_name.lower() == \"admin\":\n",
    "    if password == \"Admin\":\n",
    "        print(\"Valid User\")\n",
    "    else:\n",
    "        print(\"Invalid User\")"
   ]
  },
  {
   "cell_type": "markdown",
   "id": "84132672",
   "metadata": {},
   "source": [
    "# Loop"
   ]
  },
  {
   "cell_type": "code",
   "execution_count": 19,
   "id": "93cf5937",
   "metadata": {},
   "outputs": [
    {
     "name": "stdout",
     "output_type": "stream",
     "text": [
      "P\n",
      "a\n",
      "k\n",
      "i\n",
      "s\n",
      "t\n",
      "a\n",
      "n\n"
     ]
    }
   ],
   "source": [
    "abc = \"Pakistan\"\n",
    "\n",
    "for c in abc:\n",
    "    print(c)"
   ]
  },
  {
   "cell_type": "code",
   "execution_count": 20,
   "id": "bcd1cb6f",
   "metadata": {},
   "outputs": [
    {
     "name": "stdout",
     "output_type": "stream",
     "text": [
      "a\n",
      "b\n",
      "c\n",
      "d\n",
      "1\n",
      "2\n",
      "3\n",
      "abc\n",
      "xyz\n"
     ]
    }
   ],
   "source": [
    "for i in ['a','b','c','d',1,2,3,'abc','xyz']:\n",
    "    print(i)\n",
    "    "
   ]
  },
  {
   "cell_type": "code",
   "execution_count": 21,
   "id": "0d1710a9",
   "metadata": {},
   "outputs": [
    {
     "data": {
      "text/plain": [
       "[(0, 'a'),\n",
       " (1, 'b'),\n",
       " (2, 'c'),\n",
       " (3, 'd'),\n",
       " (4, 1),\n",
       " (5, 2),\n",
       " (6, 3),\n",
       " (7, 'abc'),\n",
       " (8, 'xyz')]"
      ]
     },
     "execution_count": 21,
     "metadata": {},
     "output_type": "execute_result"
    }
   ],
   "source": [
    "list(enumerate(['a','b','c','d',1,2,3,'abc','xyz']))\n"
   ]
  },
  {
   "cell_type": "code",
   "execution_count": 22,
   "id": "d3326d5a",
   "metadata": {},
   "outputs": [
    {
     "name": "stdout",
     "output_type": "stream",
     "text": [
      "0 abc\n",
      "1 efg\n",
      "2 xyz\n",
      "3 qasim\n"
     ]
    }
   ],
   "source": [
    "for index, value in enumerate(['abc','efg','xyz','qasim']):\n",
    "    print(index, value)"
   ]
  },
  {
   "cell_type": "code",
   "execution_count": 23,
   "id": "266dc6ac",
   "metadata": {},
   "outputs": [
    {
     "data": {
      "text/plain": [
       "['P', 'a', 'k', 'i', 's', 't', 'a', 'n']"
      ]
     },
     "execution_count": 23,
     "metadata": {},
     "output_type": "execute_result"
    }
   ],
   "source": [
    "list(\"Pakistan\")"
   ]
  },
  {
   "cell_type": "markdown",
   "id": "58243310",
   "metadata": {},
   "source": [
    "# ASCII\n",
    "* 0-9  = 48 - 57\n",
    "* A-Z  = 65 - 90\n",
    "* a-z  = 97 - 122\n",
    "\n",
    "## dealing with ASCII\n",
    "* ord\n",
    "* chr"
   ]
  },
  {
   "cell_type": "code",
   "execution_count": 24,
   "id": "4da6f05e",
   "metadata": {},
   "outputs": [
    {
     "name": "stdout",
     "output_type": "stream",
     "text": [
      "65\n",
      "97\n",
      "48\n"
     ]
    }
   ],
   "source": [
    "print(ord(\"A\"))\n",
    "print(ord('a'))\n",
    "print(ord('0'))\n"
   ]
  },
  {
   "cell_type": "code",
   "execution_count": 25,
   "id": "a403afc9",
   "metadata": {},
   "outputs": [
    {
     "name": "stdout",
     "output_type": "stream",
     "text": [
      "A\n",
      "a\n",
      "0\n"
     ]
    }
   ],
   "source": [
    "print(chr(65))\n",
    "print(chr(97))\n",
    "print(chr(48))"
   ]
  },
  {
   "cell_type": "code",
   "execution_count": 26,
   "id": "d482b343",
   "metadata": {},
   "outputs": [
    {
     "name": "stdout",
     "output_type": "stream",
     "text": [
      "A\n",
      "B\n",
      "C\n",
      "D\n",
      "E\n",
      "F\n",
      "G\n",
      "H\n",
      "I\n",
      "J\n",
      "K\n",
      "L\n",
      "M\n",
      "N\n",
      "O\n",
      "P\n",
      "Q\n",
      "R\n",
      "S\n",
      "T\n",
      "U\n",
      "V\n",
      "W\n",
      "X\n",
      "Y\n",
      "Z\n"
     ]
    }
   ],
   "source": [
    "for i in range(65,91):\n",
    "    print(chr(i))"
   ]
  },
  {
   "cell_type": "code",
   "execution_count": 27,
   "id": "12a14f44",
   "metadata": {},
   "outputs": [
    {
     "data": {
      "text/plain": [
       "['A',\n",
       " 'B',\n",
       " 'C',\n",
       " 'D',\n",
       " 'E',\n",
       " 'F',\n",
       " 'G',\n",
       " 'H',\n",
       " 'I',\n",
       " 'J',\n",
       " 'K',\n",
       " 'L',\n",
       " 'M',\n",
       " 'N',\n",
       " 'O',\n",
       " 'P',\n",
       " 'Q',\n",
       " 'R',\n",
       " 'S',\n",
       " 'T',\n",
       " 'U',\n",
       " 'V',\n",
       " 'W',\n",
       " 'X',\n",
       " 'Y',\n",
       " 'Z']"
      ]
     },
     "execution_count": 27,
     "metadata": {},
     "output_type": "execute_result"
    }
   ],
   "source": [
    "[chr(i) for i in range(65,91)]"
   ]
  },
  {
   "cell_type": "code",
   "execution_count": 29,
   "id": "db45d3cb",
   "metadata": {},
   "outputs": [
    {
     "ename": "SyntaxError",
     "evalue": "invalid syntax (1057558464.py, line 1)",
     "output_type": "error",
     "traceback": [
      "\u001b[1;36m  File \u001b[1;32m\"C:\\Users\\saylani\\AppData\\Local\\Temp\\ipykernel_10960\\1057558464.py\"\u001b[1;36m, line \u001b[1;32m1\u001b[0m\n\u001b[1;33m    [chr(i) for i in range(65,91)] +\u001b[0m\n\u001b[1;37m                                    ^\u001b[0m\n\u001b[1;31mSyntaxError\u001b[0m\u001b[1;31m:\u001b[0m invalid syntax\n"
     ]
    }
   ],
   "source": [
    "[chr(i) for i in range(65,91)] +\n",
    "[chr(i) for i in range(97,123)] +\n",
    "[chr(i) for i in range(48,58)]"
   ]
  },
  {
   "cell_type": "code",
   "execution_count": 30,
   "id": "2d28a69b",
   "metadata": {},
   "outputs": [
    {
     "data": {
      "text/plain": [
       "['A',\n",
       " 'B',\n",
       " 'C',\n",
       " 'D',\n",
       " 'E',\n",
       " 'F',\n",
       " 'G',\n",
       " 'H',\n",
       " 'I',\n",
       " 'J',\n",
       " 'K',\n",
       " 'L',\n",
       " 'M',\n",
       " 'N',\n",
       " 'O',\n",
       " 'P',\n",
       " 'Q',\n",
       " 'R',\n",
       " 'S',\n",
       " 'T',\n",
       " 'U',\n",
       " 'V',\n",
       " 'W',\n",
       " 'X',\n",
       " 'Y',\n",
       " 'Z',\n",
       " 'a',\n",
       " 'b',\n",
       " 'c',\n",
       " 'd',\n",
       " 'e',\n",
       " 'f',\n",
       " 'g',\n",
       " 'h',\n",
       " 'i',\n",
       " 'j',\n",
       " 'k',\n",
       " 'l',\n",
       " 'm',\n",
       " 'n',\n",
       " 'o',\n",
       " 'p',\n",
       " 'q',\n",
       " 'r',\n",
       " 's',\n",
       " 't',\n",
       " 'u',\n",
       " 'v',\n",
       " 'w',\n",
       " 'x',\n",
       " 'y',\n",
       " 'z',\n",
       " '0',\n",
       " '1',\n",
       " '2',\n",
       " '3',\n",
       " '4',\n",
       " '5',\n",
       " '6',\n",
       " '7',\n",
       " '8',\n",
       " '9']"
      ]
     },
     "execution_count": 30,
     "metadata": {},
     "output_type": "execute_result"
    }
   ],
   "source": [
    "[chr(i) for i in range(65,91)] +\\\n",
    "[chr(i) for i in range(97,123)] +\\\n",
    "[chr(i) for i in range(48,58)]"
   ]
  },
  {
   "cell_type": "code",
   "execution_count": 31,
   "id": "cd6c6db7",
   "metadata": {},
   "outputs": [
    {
     "data": {
      "text/plain": [
       "[65,\n",
       " 66,\n",
       " 67,\n",
       " 68,\n",
       " 69,\n",
       " 70,\n",
       " 71,\n",
       " 72,\n",
       " 73,\n",
       " 74,\n",
       " 75,\n",
       " 76,\n",
       " 77,\n",
       " 78,\n",
       " 79,\n",
       " 80,\n",
       " 81,\n",
       " 82,\n",
       " 83,\n",
       " 84,\n",
       " 85,\n",
       " 86,\n",
       " 87,\n",
       " 88,\n",
       " 89,\n",
       " 90]"
      ]
     },
     "execution_count": 31,
     "metadata": {},
     "output_type": "execute_result"
    }
   ],
   "source": [
    "[i for i in range(65,91)]"
   ]
  },
  {
   "cell_type": "code",
   "execution_count": 32,
   "id": "81ab2e0c",
   "metadata": {},
   "outputs": [
    {
     "data": {
      "text/plain": [
       "[66, 68, 70, 72, 74, 76, 78, 80, 82, 84, 86, 88, 90]"
      ]
     },
     "execution_count": 32,
     "metadata": {},
     "output_type": "execute_result"
    }
   ],
   "source": [
    "[i for i in range(65,91) if i % 2 == 0]"
   ]
  },
  {
   "cell_type": "code",
   "execution_count": 33,
   "id": "e0f8ab05",
   "metadata": {},
   "outputs": [
    {
     "data": {
      "text/plain": [
       "['B', 'D', 'F', 'H', 'J', 'L', 'N', 'P', 'R', 'T', 'V', 'X', 'Z']"
      ]
     },
     "execution_count": 33,
     "metadata": {},
     "output_type": "execute_result"
    }
   ],
   "source": [
    "[chr(i) for i in range(65,91) if i % 2 == 0]"
   ]
  },
  {
   "cell_type": "code",
   "execution_count": 34,
   "id": "db4f0d26",
   "metadata": {},
   "outputs": [
    {
     "data": {
      "text/plain": [
       "['A', 'C', 'E', 'G', 'I', 'K', 'M', 'O', 'Q', 'S', 'U', 'W', 'Y']"
      ]
     },
     "execution_count": 34,
     "metadata": {},
     "output_type": "execute_result"
    }
   ],
   "source": [
    "[chr(i) for i in range(65,91) if i % 2 != 0]"
   ]
  },
  {
   "cell_type": "markdown",
   "id": "38a0b9e9",
   "metadata": {},
   "source": [
    "# Loop controls"
   ]
  },
  {
   "cell_type": "code",
   "execution_count": 35,
   "id": "1c2e0bf2",
   "metadata": {},
   "outputs": [
    {
     "name": "stdout",
     "output_type": "stream",
     "text": [
      "1\n",
      "2\n",
      "3\n",
      "4\n",
      "5\n",
      "6\n",
      "7\n",
      "8\n",
      "9\n",
      "10\n"
     ]
    }
   ],
   "source": [
    "for i in range(1,11):\n",
    "    print(i)"
   ]
  },
  {
   "cell_type": "code",
   "execution_count": 36,
   "id": "6f9819bb",
   "metadata": {},
   "outputs": [
    {
     "name": "stdout",
     "output_type": "stream",
     "text": [
      "1\n"
     ]
    }
   ],
   "source": [
    "for i in range(1,11):\n",
    "    print(i)\n",
    "    break"
   ]
  },
  {
   "cell_type": "code",
   "execution_count": 37,
   "id": "dd4c5490",
   "metadata": {},
   "outputs": [
    {
     "name": "stdout",
     "output_type": "stream",
     "text": [
      "1\n",
      "2\n",
      "3\n",
      "4\n",
      "5\n"
     ]
    }
   ],
   "source": [
    "for i in range(1,11):\n",
    "    print(i)\n",
    "    if i == 5:\n",
    "        break"
   ]
  },
  {
   "cell_type": "code",
   "execution_count": 38,
   "id": "1f1b655a",
   "metadata": {},
   "outputs": [
    {
     "name": "stdout",
     "output_type": "stream",
     "text": [
      "\n",
      "    Saylani Mass IT training\n",
      "    Roll: 1\n",
      "    Name: Qasim\n",
      "    \n",
      "\n",
      "    Saylani Mass IT training\n",
      "    Roll: 2\n",
      "    Name: Asif\n",
      "    \n",
      "\n",
      "    Saylani Mass IT training\n",
      "    Roll: 3\n",
      "    Name: Hamza\n",
      "    \n"
     ]
    }
   ],
   "source": [
    "data = [{'id':1,'name':\"Qasim\"},\n",
    "       {'id':2,'name':\"Asif\"},\n",
    "       {'id':3, \"name\":\"Hamza\"}]\n",
    "\n",
    "for recod in data:\n",
    "    card = \"\"\"\n",
    "    Saylani Mass IT training\n",
    "    Roll: {id}\n",
    "    Name: {name}\n",
    "    \"\"\".format_map(recod)\n",
    "    print(card)\n",
    "#     break"
   ]
  },
  {
   "cell_type": "code",
   "execution_count": 39,
   "id": "9bdc8094",
   "metadata": {},
   "outputs": [
    {
     "name": "stdout",
     "output_type": "stream",
     "text": [
      "Enter user NameQasim\n",
      "Password123\n",
      "{'id': 1, 'name': 'Muhammad Qasim', 'u': 'Qasim', 'p': '123'}\n"
     ]
    }
   ],
   "source": [
    "data = [{'id':1,'name':\"Muhammad Qasim\",'u':'Qasim','p':'123'},\n",
    "       {'id':2,'name':\"Asif Khan\",'u':'Asif','p':'abc123'},\n",
    "       {'id':3, \"name\":\"Muhammad Hamza\",'u':'Hamza','p':'123xyz'}]\n",
    "\n",
    "user = input(\"Enter user Name\")\n",
    "pas = input(\"Password\")\n",
    "\n",
    "for d in data:\n",
    "    if d['u'] == user and d['p'] == pas:\n",
    "        print(d)\n",
    "        break"
   ]
  },
  {
   "cell_type": "code",
   "execution_count": 40,
   "id": "698573f3",
   "metadata": {},
   "outputs": [
    {
     "name": "stdout",
     "output_type": "stream",
     "text": [
      "Enter user NameAsif\n",
      "Passwordabc123\n",
      "Invalid User or Password\n",
      "{'id': 2, 'name': 'Asif Khan', 'u': 'Asif', 'p': 'abc123'}\n"
     ]
    }
   ],
   "source": [
    "data = [{'id':1,'name':\"Muhammad Qasim\",'u':'Qasim','p':'123'},\n",
    "       {'id':2,'name':\"Asif Khan\",'u':'Asif','p':'abc123'},\n",
    "       {'id':3, \"name\":\"Muhammad Hamza\",'u':'Hamza','p':'123xyz'}]\n",
    "\n",
    "user = input(\"Enter user Name\")\n",
    "pas = input(\"Password\")\n",
    "\n",
    "for d in data:\n",
    "    if d['u'] == user and d['p'] == pas:\n",
    "        print(d)\n",
    "        break\n",
    "    else:\n",
    "        print(\"Invalid User or Password\")"
   ]
  },
  {
   "cell_type": "code",
   "execution_count": 41,
   "id": "8ee1b9d1",
   "metadata": {},
   "outputs": [
    {
     "name": "stdout",
     "output_type": "stream",
     "text": [
      "Enter user NameQasim\n",
      "Password123\n",
      "{'id': 1, 'name': 'Muhammad Qasim', 'u': 'Qasim', 'p': '123'}\n"
     ]
    }
   ],
   "source": [
    "data = [{'id':1,'name':\"Muhammad Qasim\",'u':'Qasim','p':'123'},\n",
    "       {'id':2,'name':\"Asif Khan\",'u':'Asif','p':'abc123'},\n",
    "       {'id':3, \"name\":\"Muhammad Hamza\",'u':'Hamza','p':'123xyz'}]\n",
    "\n",
    "user = input(\"Enter user Name\")\n",
    "pas = input(\"Password\")\n",
    "\n",
    "for d in data:\n",
    "    if d['u'] == user and d['p'] == pas:\n",
    "        print(d)\n",
    "        break\n",
    "else:\n",
    "    print(\"Invalid User or Password\")"
   ]
  },
  {
   "cell_type": "code",
   "execution_count": 42,
   "id": "eb8bccbd",
   "metadata": {},
   "outputs": [
    {
     "name": "stdout",
     "output_type": "stream",
     "text": [
      "Enter user NameQasim\n",
      "Password123\n",
      "{'id': 1, 'name': 'Muhammad Qasim', 'u': 'Qasim', 'p': '123'}\n",
      "Invalid User or Password\n"
     ]
    }
   ],
   "source": [
    "data = [{'id':1,'name':\"Muhammad Qasim\",'u':'Qasim','p':'123'},\n",
    "       {'id':2,'name':\"Asif Khan\",'u':'Asif','p':'abc123'},\n",
    "       {'id':3, \"name\":\"Muhammad Hamza\",'u':'Hamza','p':'123xyz'}]\n",
    "\n",
    "user = input(\"Enter user Name\")\n",
    "pas = input(\"Password\")\n",
    "\n",
    "for d in data:\n",
    "    if d['u'] == user and d['p'] == pas:\n",
    "        print(d)\n",
    "        break\n",
    "\n",
    "print(\"Invalid User or Password\")"
   ]
  },
  {
   "cell_type": "code",
   "execution_count": 43,
   "id": "1fcb0691",
   "metadata": {},
   "outputs": [
    {
     "name": "stdout",
     "output_type": "stream",
     "text": [
      "1\n",
      "2\n",
      "3\n",
      "4\n",
      "6\n",
      "7\n",
      "8\n",
      "9\n",
      "10\n"
     ]
    }
   ],
   "source": [
    "for i in range(1,11):\n",
    "    if i == 5:\n",
    "        continue\n",
    "    print(i)\n",
    "    "
   ]
  },
  {
   "cell_type": "code",
   "execution_count": 44,
   "id": "c4c8baaf",
   "metadata": {},
   "outputs": [],
   "source": [
    "for i in range(1,1000):\n",
    "    pass"
   ]
  },
  {
   "cell_type": "code",
   "execution_count": 45,
   "id": "96b49876",
   "metadata": {},
   "outputs": [],
   "source": [
    "for i in range(1,1000):\n",
    "    pass"
   ]
  },
  {
   "cell_type": "code",
   "execution_count": 46,
   "id": "27ebcd27",
   "metadata": {},
   "outputs": [],
   "source": [
    "if True:\n",
    "    pass\n",
    "else:\n",
    "    pass"
   ]
  },
  {
   "cell_type": "markdown",
   "id": "7e4b9688",
   "metadata": {},
   "source": [
    "# while\n",
    "* counter\n",
    "* logic\n",
    "* loop body\n",
    "* increment/decrement"
   ]
  },
  {
   "cell_type": "code",
   "execution_count": 47,
   "id": "17f611e9",
   "metadata": {},
   "outputs": [
    {
     "name": "stdout",
     "output_type": "stream",
     "text": [
      "0 line\n",
      "1 line\n",
      "2 line\n",
      "3 line\n",
      "4 line\n",
      "5 line\n",
      "6 line\n",
      "7 line\n",
      "8 line\n",
      "9 line\n",
      "10 line\n"
     ]
    }
   ],
   "source": [
    "counter = 0\n",
    "\n",
    "while counter <= 10:\n",
    "    print(counter,'line')\n",
    "    counter += 1"
   ]
  },
  {
   "cell_type": "code",
   "execution_count": 48,
   "id": "62654504",
   "metadata": {},
   "outputs": [
    {
     "name": "stdout",
     "output_type": "stream",
     "text": [
      "100 line\n",
      "99 line\n",
      "98 line\n",
      "97 line\n",
      "96 line\n",
      "95 line\n",
      "94 line\n",
      "93 line\n",
      "92 line\n",
      "91 line\n",
      "90 line\n"
     ]
    }
   ],
   "source": [
    "counter = 100\n",
    "\n",
    "while counter >= 90:\n",
    "    print(counter,'line')\n",
    "    counter -= 1"
   ]
  },
  {
   "cell_type": "code",
   "execution_count": 49,
   "id": "ec83a8db",
   "metadata": {},
   "outputs": [
    {
     "name": "stdout",
     "output_type": "stream",
     "text": [
      "2023 Year\n",
      "2022 Year\n",
      "2021 Year\n",
      "2020 Year\n",
      "2019 Year\n",
      "2018 Year\n",
      "2017 Year\n",
      "2016 Year\n",
      "2015 Year\n",
      "2014 Year\n",
      "2013 Year\n",
      "2012 Year\n",
      "2011 Year\n",
      "2010 Year\n",
      "2009 Year\n",
      "2008 Year\n",
      "2007 Year\n",
      "2006 Year\n",
      "2005 Year\n",
      "2004 Year\n",
      "2003 Year\n",
      "2002 Year\n",
      "2001 Year\n",
      "2000 Year\n",
      "1999 Year\n",
      "1998 Year\n",
      "1997 Year\n",
      "1996 Year\n",
      "1995 Year\n",
      "1994 Year\n",
      "1993 Year\n",
      "1992 Year\n",
      "1991 Year\n",
      "1990 Year\n",
      "1989 Year\n",
      "1988 Year\n",
      "1987 Year\n",
      "1986 Year\n",
      "1985 Year\n",
      "1984 Year\n",
      "1983 Year\n",
      "1982 Year\n",
      "1981 Year\n",
      "1980 Year\n",
      "1979 Year\n",
      "1978 Year\n",
      "1977 Year\n",
      "1976 Year\n",
      "1975 Year\n",
      "1974 Year\n",
      "1973 Year\n",
      "1972 Year\n",
      "1971 Year\n",
      "1970 Year\n",
      "1969 Year\n",
      "1968 Year\n",
      "1967 Year\n",
      "1966 Year\n",
      "1965 Year\n",
      "1964 Year\n",
      "1963 Year\n",
      "1962 Year\n",
      "1961 Year\n",
      "1960 Year\n",
      "1959 Year\n",
      "1958 Year\n",
      "1957 Year\n",
      "1956 Year\n",
      "1955 Year\n",
      "1954 Year\n",
      "1953 Year\n",
      "1952 Year\n",
      "1951 Year\n",
      "1950 Year\n",
      "1949 Year\n",
      "1948 Year\n",
      "1947 Year\n",
      "1946 Year\n",
      "1945 Year\n",
      "1944 Year\n",
      "1943 Year\n",
      "1942 Year\n",
      "1941 Year\n",
      "1940 Year\n",
      "1939 Year\n",
      "1938 Year\n",
      "1937 Year\n",
      "1936 Year\n",
      "1935 Year\n",
      "1934 Year\n",
      "1933 Year\n",
      "1932 Year\n",
      "1931 Year\n",
      "1930 Year\n",
      "1929 Year\n",
      "1928 Year\n",
      "1927 Year\n",
      "1926 Year\n",
      "1925 Year\n",
      "1924 Year\n",
      "1923 Year\n",
      "1922 Year\n"
     ]
    }
   ],
   "source": [
    "counter = 2023\n",
    "\n",
    "while counter >= 1922:\n",
    "    print(counter,'Year')\n",
    "    counter -= 1"
   ]
  },
  {
   "cell_type": "markdown",
   "id": "22902000",
   "metadata": {},
   "source": [
    "# Assignment\n",
    "* create list of dictionary with (name,id,user,password,email,phone)\n",
    "* create program where user can login with user/email/phone but password must be same \n",
    "\n",
    "# Create Table \n",
    "1. pass argument1 **2 to n** table will be generated\n",
    "2. pass argument2 range of each table **1 to n**\n",
    "\n",
    "* argument1 = 3\n",
    "* agrument2 = 5\n",
    "\n",
    "```\n",
    "2 x 1 = 2  3X1=3\n",
    "2 x 2 = 4  3X2=6\n",
    "2 x 3 = 6  3X3=9\n",
    "2 x 4 = 8  3X4=12\n",
    "2 x 5 = 10 3X5=15\n",
    "```\n"
   ]
  },
  {
   "cell_type": "code",
   "execution_count": null,
   "id": "a13ab852",
   "metadata": {},
   "outputs": [],
   "source": []
  }
 ],
 "metadata": {
  "kernelspec": {
   "display_name": "Python 3 (ipykernel)",
   "language": "python",
   "name": "python3"
  },
  "language_info": {
   "codemirror_mode": {
    "name": "ipython",
    "version": 3
   },
   "file_extension": ".py",
   "mimetype": "text/x-python",
   "name": "python",
   "nbconvert_exporter": "python",
   "pygments_lexer": "ipython3",
   "version": "3.9.13"
  }
 },
 "nbformat": 4,
 "nbformat_minor": 5
}
