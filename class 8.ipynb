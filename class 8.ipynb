{
 "cells": [
  {
   "cell_type": "code",
   "execution_count": 5,
   "metadata": {},
   "outputs": [
    {
     "name": "stdout",
     "output_type": "stream",
     "text": [
      "We Love Our Country\n",
      "My Country Name is Pakistan\n",
      "Pakistan ZIndabad!\n"
     ]
    }
   ],
   "source": [
    "def any_country(country_name):\n",
    "    print(\"We Love Our Country\")\n",
    "    print(f\"My Country Name is {country_name}\")\n",
    "    print(f\"{country_name} ZIndabad!\")\n",
    "\n",
    "any_country(\"Pakistan\")"
   ]
  },
  {
   "cell_type": "code",
   "execution_count": 6,
   "metadata": {},
   "outputs": [
    {
     "data": {
      "text/plain": [
       "'We Love Our Country\\n    My Country Name is Pakistan\\n    Pakistan ZIndabad!'"
      ]
     },
     "execution_count": 6,
     "metadata": {},
     "output_type": "execute_result"
    }
   ],
   "source": [
    "def any_country(country_name):\n",
    "    result = f\"\"\"We Love Our Country\n",
    "    My Country Name is {country_name}\n",
    "    {country_name} ZIndabad!\"\"\"\n",
    "    return result\n",
    "any_country(\"Pakistan\")"
   ]
  },
  {
   "cell_type": "markdown",
   "metadata": {},
   "source": [
    "# Card\n"
   ]
  },
  {
   "cell_type": "code",
   "execution_count": 8,
   "metadata": {},
   "outputs": [],
   "source": [
    "def student_card(roll_no,name,timing,batch):\n",
    "    card = f\"\"\"Saylani Student Card\n",
    "Student ID: \\t {roll_no}\n",
    "Student Name: \\t {name}\n",
    "Class Timing: \\t {timing}\n",
    "Batch: \\t\\t {batch}\n",
    "    \n",
    "    \"\"\"\n",
    "    return card\n",
    "a = student_card(\"123\",\"Saram\",\"03:00 - 06:00\",\"4\")"
   ]
  },
  {
   "cell_type": "code",
   "execution_count": 9,
   "metadata": {},
   "outputs": [
    {
     "name": "stdout",
     "output_type": "stream",
     "text": [
      "Saylani Student Card\n",
      "Student ID: \t 123\n",
      "Student Name: \t Saram\n",
      "Class Timing: \t 03:00 - 06:00\n",
      "Batch: \t\t 4\n",
      "    \n",
      "    \n"
     ]
    }
   ],
   "source": [
    "print(a)"
   ]
  },
  {
   "cell_type": "code",
   "execution_count": 10,
   "metadata": {},
   "outputs": [],
   "source": [
    "data = [[1,\"Saram\",\"03:00 - 06:00\",\"AIDS-4\"],\n",
    "       [2,\"Usman\",\"03:00 - 06:00\",\"AIDS-4\"],\n",
    "       [3,\"Hamdan\",\"03:00 - 06:00\",\"AIDS-4\"]]"
   ]
  },
  {
   "cell_type": "code",
   "execution_count": 11,
   "metadata": {},
   "outputs": [
    {
     "name": "stdout",
     "output_type": "stream",
     "text": [
      "[1, 'Saram', '03:00 - 06:00', 'AIDS-4']\n",
      "[2, 'Usman', '03:00 - 06:00', 'AIDS-4']\n",
      "[3, 'Hamdan', '03:00 - 06:00', 'AIDS-4']\n"
     ]
    }
   ],
   "source": [
    "for row in data:\n",
    "    print(row)"
   ]
  },
  {
   "cell_type": "code",
   "execution_count": 13,
   "metadata": {},
   "outputs": [
    {
     "name": "stdout",
     "output_type": "stream",
     "text": [
      "Saylani Student Card\n",
      "Student ID: \t 1\n",
      "Student Name: \t Saram\n",
      "Class Timing: \t 03:00 - 06:00\n",
      "Batch: \t\t AIDS-4\n",
      "    \n",
      "    \n",
      "Saylani Student Card\n",
      "Student ID: \t 2\n",
      "Student Name: \t Usman\n",
      "Class Timing: \t 03:00 - 06:00\n",
      "Batch: \t\t AIDS-4\n",
      "    \n",
      "    \n",
      "Saylani Student Card\n",
      "Student ID: \t 3\n",
      "Student Name: \t Hamdan\n",
      "Class Timing: \t 03:00 - 06:00\n",
      "Batch: \t\t AIDS-4\n",
      "    \n",
      "    \n"
     ]
    }
   ],
   "source": [
    "for row in data:\n",
    "    print(student_card(row[0],row[1],row[2],row[3]))"
   ]
  },
  {
   "cell_type": "code",
   "execution_count": 14,
   "metadata": {},
   "outputs": [
    {
     "name": "stdout",
     "output_type": "stream",
     "text": [
      "Saylani Student Card\n",
      "Student ID: \t 1\n",
      "Student Name: \t Saram\n",
      "Class Timing: \t 03:00 - 06:00\n",
      "Batch: \t\t AIDS-4\n",
      "    \n",
      "    \n",
      "Saylani Student Card\n",
      "Student ID: \t 2\n",
      "Student Name: \t Usman\n",
      "Class Timing: \t 03:00 - 06:00\n",
      "Batch: \t\t AIDS-4\n",
      "    \n",
      "    \n",
      "Saylani Student Card\n",
      "Student ID: \t 3\n",
      "Student Name: \t Hamdan\n",
      "Class Timing: \t 03:00 - 06:00\n",
      "Batch: \t\t AIDS-4\n",
      "    \n",
      "    \n"
     ]
    }
   ],
   "source": [
    "for row in data:\n",
    "    print(student_card(*row))"
   ]
  },
  {
   "cell_type": "markdown",
   "metadata": {},
   "source": [
    "# Add Two Numbers"
   ]
  },
  {
   "cell_type": "markdown",
   "metadata": {},
   "source": [
    "# Postional argument during calling"
   ]
  },
  {
   "cell_type": "code",
   "execution_count": 16,
   "metadata": {},
   "outputs": [],
   "source": [
    "def add_two_numbers(num1,num2):\n",
    "    return num1+num2"
   ]
  },
  {
   "cell_type": "code",
   "execution_count": 18,
   "metadata": {},
   "outputs": [
    {
     "ename": "TypeError",
     "evalue": "add_two_numbers() missing 1 required positional argument: 'num2'",
     "output_type": "error",
     "traceback": [
      "\u001b[1;31m---------------------------------------------------------------------------\u001b[0m",
      "\u001b[1;31mTypeError\u001b[0m                                 Traceback (most recent call last)",
      "Cell \u001b[1;32mIn[18], line 1\u001b[0m\n\u001b[1;32m----> 1\u001b[0m \u001b[43madd_two_numbers\u001b[49m\u001b[43m(\u001b[49m\u001b[38;5;241;43m0\u001b[39;49m\u001b[43m)\u001b[49m\n",
      "\u001b[1;31mTypeError\u001b[0m: add_two_numbers() missing 1 required positional argument: 'num2'"
     ]
    }
   ],
   "source": [
    "add_two_numbers(0)"
   ]
  },
  {
   "cell_type": "code",
   "execution_count": 19,
   "metadata": {},
   "outputs": [
    {
     "data": {
      "text/plain": [
       "2"
      ]
     },
     "execution_count": 19,
     "metadata": {},
     "output_type": "execute_result"
    }
   ],
   "source": [
    "add_two_numbers(0,2)"
   ]
  },
  {
   "cell_type": "code",
   "execution_count": 21,
   "metadata": {},
   "outputs": [
    {
     "name": "stdout",
     "output_type": "stream",
     "text": [
      "0\n",
      "5\n",
      "10\n"
     ]
    }
   ],
   "source": [
    "def add_two_numbers(num1=0,num2=0):\n",
    "    return num1+num2\n",
    "\n",
    "print(add_two_numbers())\n",
    "print(add_two_numbers(5))\n",
    "print(add_two_numbers(5+5))"
   ]
  },
  {
   "cell_type": "markdown",
   "metadata": {},
   "source": [
    "# key/word parameters/argument during calling"
   ]
  },
  {
   "cell_type": "code",
   "execution_count": 23,
   "metadata": {},
   "outputs": [
    {
     "name": "stdout",
     "output_type": "stream",
     "text": [
      "28\n",
      "5\n"
     ]
    }
   ],
   "source": [
    "def add_two_numbers(num1=0,num2=0):\n",
    "    return num1+num2\n",
    "\n",
    "print(add_two_numbers(num1=8,num2=20))\n",
    "print(add_two_numbers(num1=5))"
   ]
  }
 ],
 "metadata": {
  "kernelspec": {
   "display_name": "Python 3 (ipykernel)",
   "language": "python",
   "name": "python3"
  },
  "language_info": {
   "codemirror_mode": {
    "name": "ipython",
    "version": 3
   },
   "file_extension": ".py",
   "mimetype": "text/x-python",
   "name": "python",
   "nbconvert_exporter": "python",
   "pygments_lexer": "ipython3",
   "version": "3.9.13"
  },
  "vscode": {
   "interpreter": {
    "hash": "c1724658de68dcb8fc4114ac605c1a83a7fe22e36aa048bdd8c0bdc4418b0e74"
   }
  }
 },
 "nbformat": 4,
 "nbformat_minor": 2
}
