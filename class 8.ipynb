{
 "cells": [
  {
   "cell_type": "code",
   "execution_count": 5,
   "metadata": {},
   "outputs": [
    {
     "name": "stdout",
     "output_type": "stream",
     "text": [
      "We Love Our Country\n",
      "My Country Name is Pakistan\n",
      "Pakistan ZIndabad!\n"
     ]
    }
   ],
   "source": [
    "def any_country(country_name):\n",
    "    print(\"We Love Our Country\")\n",
    "    print(f\"My Country Name is {country_name}\")\n",
    "    print(f\"{country_name} ZIndabad!\")\n",
    "\n",
    "any_country(\"Pakistan\")"
   ]
  },
  {
   "cell_type": "code",
   "execution_count": 6,
   "metadata": {},
   "outputs": [
    {
     "data": {
      "text/plain": [
       "'We Love Our Country\\n    My Country Name is Pakistan\\n    Pakistan ZIndabad!'"
      ]
     },
     "execution_count": 6,
     "metadata": {},
     "output_type": "execute_result"
    }
   ],
   "source": [
    "def any_country(country_name):\n",
    "    result = f\"\"\"We Love Our Country\n",
    "    My Country Name is {country_name}\n",
    "    {country_name} ZIndabad!\"\"\"\n",
    "    return result\n",
    "any_country(\"Pakistan\")"
   ]
  },
  {
   "cell_type": "markdown",
   "metadata": {},
   "source": [
    "# Card\n"
   ]
  },
  {
   "cell_type": "code",
   "execution_count": 8,
   "metadata": {},
   "outputs": [],
   "source": [
    "def student_card(roll_no,name,timing,batch):\n",
    "    card = f\"\"\"Saylani Student Card\n",
    "Student ID: \\t {roll_no}\n",
    "Student Name: \\t {name}\n",
    "Class Timing: \\t {timing}\n",
    "Batch: \\t\\t {batch}\n",
    "    \n",
    "    \"\"\"\n",
    "    return card\n",
    "a = student_card(\"123\",\"Saram\",\"03:00 - 06:00\",\"4\")"
   ]
  },
  {
   "cell_type": "code",
   "execution_count": 9,
   "metadata": {},
   "outputs": [
    {
     "name": "stdout",
     "output_type": "stream",
     "text": [
      "Saylani Student Card\n",
      "Student ID: \t 123\n",
      "Student Name: \t Saram\n",
      "Class Timing: \t 03:00 - 06:00\n",
      "Batch: \t\t 4\n",
      "    \n",
      "    \n"
     ]
    }
   ],
   "source": [
    "print(a)"
   ]
  },
  {
   "cell_type": "code",
   "execution_count": 10,
   "metadata": {},
   "outputs": [],
   "source": [
    "data = [[1,\"Saram\",\"03:00 - 06:00\",\"AIDS-4\"],\n",
    "       [2,\"Usman\",\"03:00 - 06:00\",\"AIDS-4\"],\n",
    "       [3,\"Hamdan\",\"03:00 - 06:00\",\"AIDS-4\"]]"
   ]
  },
  {
   "cell_type": "code",
   "execution_count": 11,
   "metadata": {},
   "outputs": [
    {
     "name": "stdout",
     "output_type": "stream",
     "text": [
      "[1, 'Saram', '03:00 - 06:00', 'AIDS-4']\n",
      "[2, 'Usman', '03:00 - 06:00', 'AIDS-4']\n",
      "[3, 'Hamdan', '03:00 - 06:00', 'AIDS-4']\n"
     ]
    }
   ],
   "source": [
    "for row in data:\n",
    "    print(row)"
   ]
  },
  {
   "cell_type": "code",
   "execution_count": 13,
   "metadata": {},
   "outputs": [
    {
     "name": "stdout",
     "output_type": "stream",
     "text": [
      "Saylani Student Card\n",
      "Student ID: \t 1\n",
      "Student Name: \t Saram\n",
      "Class Timing: \t 03:00 - 06:00\n",
      "Batch: \t\t AIDS-4\n",
      "    \n",
      "    \n",
      "Saylani Student Card\n",
      "Student ID: \t 2\n",
      "Student Name: \t Usman\n",
      "Class Timing: \t 03:00 - 06:00\n",
      "Batch: \t\t AIDS-4\n",
      "    \n",
      "    \n",
      "Saylani Student Card\n",
      "Student ID: \t 3\n",
      "Student Name: \t Hamdan\n",
      "Class Timing: \t 03:00 - 06:00\n",
      "Batch: \t\t AIDS-4\n",
      "    \n",
      "    \n"
     ]
    }
   ],
   "source": [
    "for row in data:\n",
    "    print(student_card(row[0],row[1],row[2],row[3]))"
   ]
  },
  {
   "cell_type": "code",
   "execution_count": 14,
   "metadata": {},
   "outputs": [
    {
     "name": "stdout",
     "output_type": "stream",
     "text": [
      "Saylani Student Card\n",
      "Student ID: \t 1\n",
      "Student Name: \t Saram\n",
      "Class Timing: \t 03:00 - 06:00\n",
      "Batch: \t\t AIDS-4\n",
      "    \n",
      "    \n",
      "Saylani Student Card\n",
      "Student ID: \t 2\n",
      "Student Name: \t Usman\n",
      "Class Timing: \t 03:00 - 06:00\n",
      "Batch: \t\t AIDS-4\n",
      "    \n",
      "    \n",
      "Saylani Student Card\n",
      "Student ID: \t 3\n",
      "Student Name: \t Hamdan\n",
      "Class Timing: \t 03:00 - 06:00\n",
      "Batch: \t\t AIDS-4\n",
      "    \n",
      "    \n"
     ]
    }
   ],
   "source": [
    "for row in data:\n",
    "    print(student_card(*row))"
   ]
  },
  {
   "cell_type": "markdown",
   "metadata": {},
   "source": [
    "# Add Two Numbers"
   ]
  },
  {
   "cell_type": "markdown",
   "metadata": {},
   "source": [
    "# Postional argument during calling"
   ]
  },
  {
   "cell_type": "code",
   "execution_count": 16,
   "metadata": {},
   "outputs": [],
   "source": [
    "def add_two_numbers(num1,num2):\n",
    "    return num1+num2"
   ]
  },
  {
   "cell_type": "code",
   "execution_count": 18,
   "metadata": {},
   "outputs": [
    {
     "ename": "TypeError",
     "evalue": "add_two_numbers() missing 1 required positional argument: 'num2'",
     "output_type": "error",
     "traceback": [
      "\u001b[1;31m---------------------------------------------------------------------------\u001b[0m",
      "\u001b[1;31mTypeError\u001b[0m                                 Traceback (most recent call last)",
      "Cell \u001b[1;32mIn[18], line 1\u001b[0m\n\u001b[1;32m----> 1\u001b[0m \u001b[43madd_two_numbers\u001b[49m\u001b[43m(\u001b[49m\u001b[38;5;241;43m0\u001b[39;49m\u001b[43m)\u001b[49m\n",
      "\u001b[1;31mTypeError\u001b[0m: add_two_numbers() missing 1 required positional argument: 'num2'"
     ]
    }
   ],
   "source": [
    "add_two_numbers(0)"
   ]
  },
  {
   "cell_type": "code",
   "execution_count": 19,
   "metadata": {},
   "outputs": [
    {
     "data": {
      "text/plain": [
       "2"
      ]
     },
     "execution_count": 19,
     "metadata": {},
     "output_type": "execute_result"
    }
   ],
   "source": [
    "add_two_numbers(0,2)"
   ]
  },
  {
   "cell_type": "code",
   "execution_count": 21,
   "metadata": {},
   "outputs": [
    {
     "name": "stdout",
     "output_type": "stream",
     "text": [
      "0\n",
      "5\n",
      "10\n"
     ]
    }
   ],
   "source": [
    "def add_two_numbers(num1=0,num2=0):\n",
    "    return num1+num2\n",
    "\n",
    "print(add_two_numbers())\n",
    "print(add_two_numbers(5))\n",
    "print(add_two_numbers(5+5))"
   ]
  },
  {
   "cell_type": "markdown",
   "metadata": {},
   "source": [
    "# key/word parameters/argument during calling"
   ]
  },
  {
   "cell_type": "code",
   "execution_count": 23,
   "metadata": {},
   "outputs": [
    {
     "name": "stdout",
     "output_type": "stream",
     "text": [
      "28\n",
      "5\n"
     ]
    }
   ],
   "source": [
    "def add_two_numbers(num1=0,num2=0):\n",
    "    return num1+num2\n",
    "\n",
    "print(add_two_numbers(num1=8,num2=20))\n",
    "print(add_two_numbers(num1=5))"
   ]
  },
  {
   "attachments": {},
   "cell_type": "markdown",
   "metadata": {},
   "source": [
    "# Create unlimited positional arguments for calling"
   ]
  },
  {
   "cell_type": "code",
   "execution_count": 11,
   "metadata": {},
   "outputs": [
    {
     "name": "stdout",
     "output_type": "stream",
     "text": [
      "16\n"
     ]
    },
    {
     "data": {
      "text/plain": [
       "16"
      ]
     },
     "execution_count": 11,
     "metadata": {},
     "output_type": "execute_result"
    }
   ],
   "source": [
    "def my_sum(num1,num2):\n",
    "    print(num1+num2)\n",
    "    return num1 + num2\n",
    "\n",
    "my_sum(7,9)"
   ]
  },
  {
   "cell_type": "code",
   "execution_count": 14,
   "metadata": {},
   "outputs": [
    {
     "name": "stdout",
     "output_type": "stream",
     "text": [
      "7 (9,)\n"
     ]
    }
   ],
   "source": [
    "def my_sum(num1,*value):\n",
    "    print(num1,value)\n",
    "    # return num1 + num2\n",
    "\n",
    "my_sum(7,9)\n",
    "\n"
   ]
  },
  {
   "cell_type": "code",
   "execution_count": 16,
   "metadata": {},
   "outputs": [
    {
     "name": "stdout",
     "output_type": "stream",
     "text": [
      "7 (9, 1)\n"
     ]
    },
    {
     "data": {
      "text/plain": [
       "17"
      ]
     },
     "execution_count": 16,
     "metadata": {},
     "output_type": "execute_result"
    }
   ],
   "source": [
    "def my_sum(num1,*value):\n",
    "    print(num1,value)\n",
    "    result = num1\n",
    "    for n in value:\n",
    "        result += n\n",
    "    return result\n",
    "\n",
    "my_sum(7,9,1)"
   ]
  },
  {
   "cell_type": "code",
   "execution_count": 17,
   "metadata": {},
   "outputs": [
    {
     "name": "stdout",
     "output_type": "stream",
     "text": [
      "{'num1': 7, 'tea': 2, 'milk': '1 KG'}\n",
      "<class 'dict'>\n"
     ]
    }
   ],
   "source": [
    "def abc(**values):\n",
    "    print(values)\n",
    "    print(type(values))\n",
    "\n",
    "abc(num1=7,tea=2,milk=\"1 KG\")"
   ]
  },
  {
   "cell_type": "code",
   "execution_count": 20,
   "metadata": {},
   "outputs": [],
   "source": [
    "def my_custom_function(num1, num2=7, *value, **dict1):\n",
    "    print(\"Required positional argument num1 = \", num1, type(num1))\n",
    "    print(\"Positional default parameter value argument num2 = \", num2, type(num2))\n",
    "    print(\"Positional unlimited argument value1 = \", value, type(value))\n",
    "    print(\"key/word unlimited argument dict1 = \", dict1, type(dict1))         "
   ]
  },
  {
   "cell_type": "code",
   "execution_count": 21,
   "metadata": {},
   "outputs": [
    {
     "name": "stdout",
     "output_type": "stream",
     "text": [
      "Required positional argument num1 =  200 <class 'int'>\n",
      "Positional default parameter value argument num2 =  100 <class 'int'>\n",
      "Positional unlimited argument value1 =  ('a', 'b', 'c') <class 'tuple'>\n",
      "key/word unlimited argument dict1 =  {'tea': 7, 'milk': '1 KG'} <class 'dict'>\n"
     ]
    }
   ],
   "source": [
    "my_custom_function(200,100,'a','b','c',tea=7,milk=\"1 KG\")"
   ]
  },
  {
   "cell_type": "code",
   "execution_count": 22,
   "metadata": {},
   "outputs": [
    {
     "name": "stdout",
     "output_type": "stream",
     "text": [
      "Student Roll number:  1\n",
      "Student Name:  Saram\n",
      "Student Skills:  ('Python', 'ML', 'DL')\n"
     ]
    }
   ],
   "source": [
    "def std_cards(id, name, *skills):\n",
    "    print(\"Student Roll number: \", id)\n",
    "    print(\"Student Name: \", name)\n",
    "    print(\"Student Skills: \", skills)\n",
    "\n",
    "std_cards(1, \"Saram\",\"Python\",\"ML\",\"DL\")"
   ]
  },
  {
   "attachments": {},
   "cell_type": "markdown",
   "metadata": {},
   "source": [
    "# Lambda function"
   ]
  },
  {
   "cell_type": "code",
   "execution_count": 23,
   "metadata": {},
   "outputs": [],
   "source": [
    "def add_two_num(num1,num2):\n",
    "    return num1 + num2\n"
   ]
  },
  {
   "cell_type": "code",
   "execution_count": 26,
   "metadata": {},
   "outputs": [
    {
     "data": {
      "text/plain": [
       "16"
      ]
     },
     "execution_count": 26,
     "metadata": {},
     "output_type": "execute_result"
    }
   ],
   "source": [
    "a = lambda num1,num2: num1+num2\n",
    "a(7,9)"
   ]
  },
  {
   "cell_type": "code",
   "execution_count": 32,
   "metadata": {},
   "outputs": [
    {
     "data": {
      "text/plain": [
       "[[1, 'a', 'Z'], [2, 'b', 'Y'], [3, 'c', 'X']]"
      ]
     },
     "execution_count": 32,
     "metadata": {},
     "output_type": "execute_result"
    }
   ],
   "source": [
    "l = [[1,'a','Z'],\n",
    "     [2,'b','Y'],\n",
    "     [3,'c','X']]\n",
    "l"
   ]
  },
  {
   "cell_type": "code",
   "execution_count": 33,
   "metadata": {},
   "outputs": [
    {
     "data": {
      "text/plain": [
       "[[3, 'c', 'X'], [2, 'b', 'Y'], [1, 'a', 'Z']]"
      ]
     },
     "execution_count": 33,
     "metadata": {},
     "output_type": "execute_result"
    }
   ],
   "source": [
    "sorted(l, key=lambda x:x[2])"
   ]
  },
  {
   "attachments": {},
   "cell_type": "markdown",
   "metadata": {},
   "source": [
    "# Generator function\n"
   ]
  },
  {
   "cell_type": "code",
   "execution_count": 35,
   "metadata": {},
   "outputs": [
    {
     "name": "stdout",
     "output_type": "stream",
     "text": [
      "<generator object my_range at 0x0000021A2B977120>\n"
     ]
    }
   ],
   "source": [
    "def my_range(start,end):\n",
    "    for i in range(start,end+1):\n",
    "        yield i\n",
    "\n",
    "a = my_range(1,10)\n",
    "print(a)"
   ]
  },
  {
   "cell_type": "code",
   "execution_count": 37,
   "metadata": {},
   "outputs": [
    {
     "name": "stdout",
     "output_type": "stream",
     "text": [
      "1\n",
      "2\n",
      "3\n",
      "4\n"
     ]
    }
   ],
   "source": [
    "a = my_range(1,11)\n",
    "print(next(a))\n",
    "print(next(a))\n",
    "print(next(a))\n",
    "print(next(a))"
   ]
  },
  {
   "cell_type": "code",
   "execution_count": 38,
   "metadata": {},
   "outputs": [
    {
     "data": {
      "text/plain": [
       "[1, 2, 3, 4, 5, 6, 7, 8, 9, 10, 11]"
      ]
     },
     "execution_count": 38,
     "metadata": {},
     "output_type": "execute_result"
    }
   ],
   "source": [
    "a = my_range(1,11)\n",
    "list(a)"
   ]
  },
  {
   "attachments": {},
   "cell_type": "markdown",
   "metadata": {},
   "source": [
    "# Recursive function"
   ]
  },
  {
   "cell_type": "code",
   "execution_count": null,
   "metadata": {},
   "outputs": [],
   "source": []
  }
 ],
 "metadata": {
  "kernelspec": {
   "display_name": "Python 3 (ipykernel)",
   "language": "python",
   "name": "python3"
  },
  "language_info": {
   "codemirror_mode": {
    "name": "ipython",
    "version": 3
   },
   "file_extension": ".py",
   "mimetype": "text/x-python",
   "name": "python",
   "nbconvert_exporter": "python",
   "pygments_lexer": "ipython3",
   "version": "3.9.13"
  },
  "vscode": {
   "interpreter": {
    "hash": "c1724658de68dcb8fc4114ac605c1a83a7fe22e36aa048bdd8c0bdc4418b0e74"
   }
  }
 },
 "nbformat": 4,
 "nbformat_minor": 2
}
