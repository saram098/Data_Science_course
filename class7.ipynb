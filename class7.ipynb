{
 "cells": [
  {
   "attachments": {},
   "cell_type": "markdown",
   "metadata": {},
   "source": [
    "# Programming Paradigms\n",
    "# Linear Programming\n",
    "# Structural/Controls Programming\n",
    "# Object Oriented Programming\n",
    "\n"
   ]
  },
  {
   "attachments": {},
   "cell_type": "markdown",
   "metadata": {},
   "source": [
    "# Linear Programming"
   ]
  },
  {
   "cell_type": "code",
   "execution_count": 1,
   "metadata": {},
   "outputs": [
    {
     "name": "stdout",
     "output_type": "stream",
     "text": [
      "Pakistan Zindabad\n",
      "Pakistan Zindabad\n",
      "Pakistan Zindabad\n",
      "Pakistan Zindabad\n",
      "Pakistan Zindabad\n",
      "Pakistan Zindabad\n",
      "Pakistan Zindabad\n",
      "Pakistan Zindabad\n",
      "Pakistan Zindabad\n",
      "Pakistan Zindabad\n",
      "Pakistan Zindabad\n"
     ]
    }
   ],
   "source": [
    "print(\"Pakistan Zindabad\")\n",
    "print(\"Pakistan Zindabad\")\n",
    "print(\"Pakistan Zindabad\")\n",
    "print(\"Pakistan Zindabad\")\n",
    "print(\"Pakistan Zindabad\")\n",
    "print(\"Pakistan Zindabad\")\n",
    "print(\"Pakistan Zindabad\")\n",
    "print(\"Pakistan Zindabad\")\n",
    "print(\"Pakistan Zindabad\")\n",
    "print(\"Pakistan Zindabad\")\n",
    "print(\"Pakistan Zindabad\")\n"
   ]
  },
  {
   "cell_type": "code",
   "execution_count": 2,
   "metadata": {},
   "outputs": [
    {
     "name": "stdout",
     "output_type": "stream",
     "text": [
      "1 Pakistan Zindabad\n",
      "2 Pakistan Zindabad\n",
      "3 Pakistan Zindabad\n",
      "4 Pakistan Zindabad\n",
      "5 Pakistan Zindabad\n",
      "6 Pakistan Zindabad\n",
      "7 Pakistan Zindabad\n",
      "8 Pakistan Zindabad\n",
      "9 Pakistan Zindabad\n",
      "10 Pakistan Zindabad\n"
     ]
    }
   ],
   "source": [
    "for i in range(1,11):\n",
    "    print(i, \"Pakistan Zindabad\")"
   ]
  }
 ],
 "metadata": {
  "kernelspec": {
   "display_name": "Python 3",
   "language": "python",
   "name": "python3"
  },
  "language_info": {
   "codemirror_mode": {
    "name": "ipython",
    "version": 3
   },
   "file_extension": ".py",
   "mimetype": "text/x-python",
   "name": "python",
   "nbconvert_exporter": "python",
   "pygments_lexer": "ipython3",
   "version": "3.9.7"
  },
  "orig_nbformat": 4
 },
 "nbformat": 4,
 "nbformat_minor": 2
}
