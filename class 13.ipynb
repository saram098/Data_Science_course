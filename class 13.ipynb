{
 "cells": [
  {
   "attachments": {},
   "cell_type": "markdown",
   "metadata": {},
   "source": [
    "# OOP\n",
    "\n",
    "Structure Programming"
   ]
  },
  {
   "cell_type": "code",
   "execution_count": 3,
   "metadata": {},
   "outputs": [],
   "source": [
    "s1_name = \"Saram\"\n",
    "s2_name = \"Adeel\"\n",
    "s3_name = \"Anas\"\n",
    "\n",
    "def s1_login(): pass\n",
    "def s2_login(): pass\n",
    "def s3_login(): pass"
   ]
  },
  {
   "attachments": {},
   "cell_type": "markdown",
   "metadata": {},
   "source": [
    "OOPS"
   ]
  },
  {
   "cell_type": "code",
   "execution_count": 7,
   "metadata": {},
   "outputs": [],
   "source": [
    "class Student():\n",
    "\n",
    "    counter = 0\n",
    "\n",
    "    def __init__(self, sname):  # constructor or initializer\n",
    "        # self.attribute = value\n",
    "        self.name = sname\n",
    "        self.father_name = None\n",
    "\n",
    "    def login(self, user, password):\n",
    "        pass\n",
    "\n",
    "s1 = Student(\"Saram\")\n",
    "s2 = Student(\"Adeel\")\n",
    "s3 = Student(\"Anas\")\n",
    "\n"
   ]
  },
  {
   "cell_type": "code",
   "execution_count": 8,
   "metadata": {},
   "outputs": [
    {
     "name": "stdout",
     "output_type": "stream",
     "text": [
      "Saram\n"
     ]
    }
   ],
   "source": [
    "print(s1.name)"
   ]
  },
  {
   "cell_type": "code",
   "execution_count": 11,
   "metadata": {},
   "outputs": [
    {
     "name": "stdout",
     "output_type": "stream",
     "text": [
      "None\n",
      "Abdul Hai\n"
     ]
    }
   ],
   "source": [
    "print(s1.father_name)\n",
    "s1.father_name = \"Abdul Hai\"\n",
    "print(s1.father_name)"
   ]
  },
  {
   "cell_type": "code",
   "execution_count": 12,
   "metadata": {},
   "outputs": [
    {
     "name": "stdout",
     "output_type": "stream",
     "text": [
      "Saram\n",
      "Abdul Hai\n"
     ]
    }
   ],
   "source": [
    "print(s1.name)\n",
    "print(s1.father_name)"
   ]
  },
  {
   "cell_type": "code",
   "execution_count": 13,
   "metadata": {},
   "outputs": [
    {
     "ename": "AttributeError",
     "evalue": "'Student' object has no attribute 'contact'",
     "output_type": "error",
     "traceback": [
      "\u001b[1;31m---------------------------------------------------------------------------\u001b[0m",
      "\u001b[1;31mAttributeError\u001b[0m                            Traceback (most recent call last)",
      "Cell \u001b[1;32mIn[13], line 1\u001b[0m\n\u001b[1;32m----> 1\u001b[0m \u001b[39mprint\u001b[39m(s1\u001b[39m.\u001b[39;49mcontact)\n",
      "\u001b[1;31mAttributeError\u001b[0m: 'Student' object has no attribute 'contact'"
     ]
    }
   ],
   "source": [
    "print(s1.contact)"
   ]
  },
  {
   "cell_type": "code",
   "execution_count": 14,
   "metadata": {},
   "outputs": [],
   "source": [
    "s1.contact = \"0317-2547900\""
   ]
  },
  {
   "cell_type": "code",
   "execution_count": 15,
   "metadata": {},
   "outputs": [
    {
     "name": "stdout",
     "output_type": "stream",
     "text": [
      "Saram\n",
      "Abdul Hai\n",
      "0317-2547900\n"
     ]
    }
   ],
   "source": [
    "print(s1.name)\n",
    "print(s1.father_name)\n",
    "print(s1.contact)"
   ]
  },
  {
   "cell_type": "code",
   "execution_count": 9,
   "metadata": {},
   "outputs": [
    {
     "data": {
      "text/plain": [
       "0"
      ]
     },
     "execution_count": 9,
     "metadata": {},
     "output_type": "execute_result"
    }
   ],
   "source": [
    "Student.counter"
   ]
  },
  {
   "cell_type": "code",
   "execution_count": 8,
   "metadata": {},
   "outputs": [
    {
     "name": "stdout",
     "output_type": "stream",
     "text": [
      "0\n"
     ]
    }
   ],
   "source": [
    "print(s1.counter)"
   ]
  },
  {
   "attachments": {},
   "cell_type": "markdown",
   "metadata": {},
   "source": [
    "# Inheritance"
   ]
  },
  {
   "cell_type": "code",
   "execution_count": 52,
   "metadata": {},
   "outputs": [],
   "source": [
    "class Parents():\n",
    "    def __init__(this, name, fname):\n",
    "        this.name = name\n",
    "        this.father = fname\n",
    "\n",
    "    def speak(this, words):\n",
    "        return words\n",
    "    \n",
    "    def look(this, object1):\n",
    "        return f\"{this.name} is looking {object1}\"\n",
    "    \n",
    "class Child(Parents):\n",
    "    def __init__(this, name, fname, age):\n",
    "        super().__init__(name, fname) # calling parent constructor function\n",
    "        this.age = age\n",
    "    def reading(this, context):\n",
    "        return f\"{this.name} is reading {context}\"\n"
   ]
  },
  {
   "cell_type": "code",
   "execution_count": 54,
   "metadata": {},
   "outputs": [],
   "source": [
    "class Child(Parents):\n",
    "    pass"
   ]
  },
  {
   "cell_type": "code",
   "execution_count": 55,
   "metadata": {},
   "outputs": [
    {
     "name": "stdout",
     "output_type": "stream",
     "text": [
      "Khan\n",
      "Hai\n",
      "None\n"
     ]
    }
   ],
   "source": [
    "pp = Child(\"Bilal\",\"Khan\")\n",
    "print(pp.__init__(\"Saram\",\"Hai\"))\n",
    "# print(pp.name)\n",
    "# print(pp.father)\n",
    "# print(pp.speak(\"Hello\"))\n",
    "# print(pp.look(\"hi\"))"
   ]
  },
  {
   "cell_type": "code",
   "execution_count": 36,
   "metadata": {},
   "outputs": [
    {
     "name": "stdout",
     "output_type": "stream",
     "text": [
      "Saram Hai is reading Book\n"
     ]
    }
   ],
   "source": [
    "c1 = Child(\"Saram Hai\",\"Abdul Hai\",20)\n",
    "print(c1.reading(\"Book\"))"
   ]
  },
  {
   "cell_type": "code",
   "execution_count": 26,
   "metadata": {},
   "outputs": [
    {
     "name": "stdout",
     "output_type": "stream",
     "text": [
      "Saram Hai is reading Book\n"
     ]
    }
   ],
   "source": [
    "c1 = Child(\"Saram Hai\",\"Abdul Hai\")\n",
    "print(c1.reading(\"Book\"))"
   ]
  },
  {
   "cell_type": "code",
   "execution_count": 27,
   "metadata": {},
   "outputs": [
    {
     "data": {
      "text/plain": [
       "['father', 'look', 'name', 'speak']"
      ]
     },
     "execution_count": 27,
     "metadata": {},
     "output_type": "execute_result"
    }
   ],
   "source": [
    "[i for i in dir(p1) if \"_\" not in i]"
   ]
  },
  {
   "cell_type": "code",
   "execution_count": 28,
   "metadata": {},
   "outputs": [
    {
     "data": {
      "text/plain": [
       "['father', 'look', 'name', 'reading', 'speak']"
      ]
     },
     "execution_count": 28,
     "metadata": {},
     "output_type": "execute_result"
    }
   ],
   "source": [
    "[i for i in dir(c1) if \"_\" not in i]"
   ]
  },
  {
   "cell_type": "code",
   "execution_count": 30,
   "metadata": {},
   "outputs": [
    {
     "name": "stdout",
     "output_type": "stream",
     "text": [
      "father\n",
      "look\n",
      "name\n",
      "reading\n",
      "speak\n"
     ]
    }
   ],
   "source": [
    "for i in dir(c1):\n",
    "    if \"_\" not in i:\n",
    "        print(i)"
   ]
  },
  {
   "cell_type": "code",
   "execution_count": 17,
   "metadata": {},
   "outputs": [],
   "source": [
    "class Child(Parents):\n",
    "    pass"
   ]
  },
  {
   "cell_type": "code",
   "execution_count": 19,
   "metadata": {},
   "outputs": [
    {
     "name": "stdout",
     "output_type": "stream",
     "text": [
      "Saram Hai\n",
      "Abdul Hai\n",
      "Pakistan Zindabad!\n",
      "Saram Hai is looking Class Lecture\n"
     ]
    }
   ],
   "source": [
    "p1 = Parents(\"Saram Hai\",\"Abdul Hai\")\n",
    "print(p1.name)\n",
    "print(p1.father)\n",
    "print(p1.speak(\"Pakistan Zindabad!\"))\n",
    "print(p1.look(\"Class Lecture\"))"
   ]
  },
  {
   "cell_type": "code",
   "execution_count": 20,
   "metadata": {},
   "outputs": [
    {
     "name": "stdout",
     "output_type": "stream",
     "text": [
      "Saram Hai\n",
      "Abdul Hai\n",
      "Pakistan Zindabad!\n",
      "Saram Hai is looking Class Lecture\n"
     ]
    }
   ],
   "source": [
    "c1 = Child(\"Saram Hai\",\"Abdul Hai\")\n",
    "print(c1.name)\n",
    "print(c1.father)\n",
    "print(c1.speak(\"Pakistan Zindabad!\"))\n",
    "print(c1.look(\"Class Lecture\"))"
   ]
  },
  {
   "cell_type": "code",
   "execution_count": null,
   "metadata": {},
   "outputs": [],
   "source": [
    "class Student():\n",
    "    def __init__(this):\n",
    "        this.name = None\n",
    "        this.father = None\n",
    "        this.course = None\n",
    "        this.fee = None\n",
    "    \n",
    "    def submit_fee(this, fee):\n",
    "        this.fee = fee\n",
    "        return f\"Fee sub\""
   ]
  },
  {
   "attachments": {},
   "cell_type": "markdown",
   "metadata": {},
   "source": [
    "# Polymorphism\n"
   ]
  },
  {
   "cell_type": "code",
   "execution_count": null,
   "metadata": {},
   "outputs": [],
   "source": [
    "class Parent():\n",
    "    def __init__(self):\n",
    "        pass\n",
    "    "
   ]
  }
 ],
 "metadata": {
  "kernelspec": {
   "display_name": "Python 3",
   "language": "python",
   "name": "python3"
  },
  "language_info": {
   "codemirror_mode": {
    "name": "ipython",
    "version": 3
   },
   "file_extension": ".py",
   "mimetype": "text/x-python",
   "name": "python",
   "nbconvert_exporter": "python",
   "pygments_lexer": "ipython3",
   "version": "3.9.7"
  },
  "orig_nbformat": 4
 },
 "nbformat": 4,
 "nbformat_minor": 2
}
